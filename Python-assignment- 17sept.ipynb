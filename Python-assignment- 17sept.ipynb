{
 "cells": [
  {
   "cell_type": "markdown",
   "id": "60026038",
   "metadata": {},
   "source": [
    "# For Loop :-"
   ]
  },
  {
   "cell_type": "markdown",
   "id": "b920ba78",
   "metadata": {},
   "source": [
    "\n",
    "# 1. Write a Python program to print numbers from 1 to 10 using a for loop.\n"
   ]
  },
  {
   "cell_type": "code",
   "execution_count": 1,
   "id": "549003d2",
   "metadata": {},
   "outputs": [
    {
     "name": "stdout",
     "output_type": "stream",
     "text": [
      "1\n",
      "2\n",
      "3\n",
      "4\n",
      "5\n",
      "6\n",
      "7\n",
      "8\n",
      "9\n",
      "10\n"
     ]
    }
   ],
   "source": [
    "for i in range(1, 11):\n",
    "    print(i)\n"
   ]
  },
  {
   "cell_type": "markdown",
   "id": "26d5d032",
   "metadata": {},
   "source": [
    "# 2. Explain the difference between a for loop and a while loop in Python.\n"
   ]
  },
  {
   "cell_type": "markdown",
   "id": "327dcdc8",
   "metadata": {},
   "source": [
    "# For Loop\n",
    "=> A for loop is a control flow statement that executes code for a predefined number of iterations. The keyword used in this control flow statement is \"for\". When the number of iterations is already known, the for loop is used.\n",
    "\n",
    "The for loop is divided into two parts −\n",
    "\n",
    "=> Header − This part specifies the iteration of the loop. In the header part, the loop variable is also declared, which tells the body which iteration is being executed.\n",
    "\n",
    "=> Body − The body part contains the statement executed per iteration.\n",
    "\n"
   ]
  },
  {
   "cell_type": "code",
   "execution_count": 4,
   "id": "794aede2",
   "metadata": {},
   "outputs": [
    {
     "ename": "SyntaxError",
     "evalue": "invalid syntax (2418173790.py, line 2)",
     "output_type": "error",
     "traceback": [
      "\u001b[1;36m  Cell \u001b[1;32mIn[4], line 2\u001b[1;36m\u001b[0m\n\u001b[1;33m    for(initialization; condition; iteration){\u001b[0m\n\u001b[1;37m                      ^\u001b[0m\n\u001b[1;31mSyntaxError\u001b[0m\u001b[1;31m:\u001b[0m invalid syntax\n"
     ]
    }
   ],
   "source": [
    "# Syntax for the for loop\n",
    "for(initialization; condition; iteration){\n",
    "   //body of the 'for' loop\n",
    "}\n"
   ]
  },
  {
   "cell_type": "markdown",
   "id": "4acc8332",
   "metadata": {},
   "source": [
    "# While Loop\n"
   ]
  },
  {
   "cell_type": "markdown",
   "id": "315c8d25",
   "metadata": {},
   "source": [
    "A loop that runs a single statement or a set of statements for a given true condition. This loop is represented by\n",
    "the keyword \"while\". When the number of iterations is unknown, a while loop is used. The statement is repeated until the \n",
    "Boolean value is false. Because the condition is tested at the beginning of a while loop, it is also known as the pre-test loop.\n",
    "\n"
   ]
  },
  {
   "cell_type": "code",
   "execution_count": 5,
   "id": "f54b8146",
   "metadata": {},
   "outputs": [
    {
     "ename": "SyntaxError",
     "evalue": "invalid syntax (4122873891.py, line 2)",
     "output_type": "error",
     "traceback": [
      "\u001b[1;36m  Cell \u001b[1;32mIn[5], line 2\u001b[1;36m\u001b[0m\n\u001b[1;33m    while ( condition) {\u001b[0m\n\u001b[1;37m                       ^\u001b[0m\n\u001b[1;31mSyntaxError\u001b[0m\u001b[1;31m:\u001b[0m invalid syntax\n"
     ]
    }
   ],
   "source": [
    "#Syntax for the while loop :- \n",
    "while ( condition) {\n",
    "   statements;\n",
    "   //body of the loop\n",
    "}"
   ]
  },
  {
   "cell_type": "markdown",
   "id": "093502bb",
   "metadata": {},
   "source": [
    "# 3. Write a Python program to calculate the sum of all numbers from 1 to 100 using a for loop.\n"
   ]
  },
  {
   "cell_type": "code",
   "execution_count": 6,
   "id": "0f4f1770",
   "metadata": {},
   "outputs": [
    {
     "name": "stdout",
     "output_type": "stream",
     "text": [
      "The sum of all numbers from 1 to 100 is: 5050\n"
     ]
    }
   ],
   "source": [
    "# Initialize a variable to store the sum\n",
    "total_sum = 0\n",
    "\n",
    "# Use a for loop to iterate through numbers from 1 to 100\n",
    "for i in range(1, 101):\n",
    "    total_sum += i\n",
    "\n",
    "# Print the result\n",
    "print(\"The sum of all numbers from 1 to 100 is:\", total_sum)\n"
   ]
  },
  {
   "cell_type": "markdown",
   "id": "81a8bd95",
   "metadata": {},
   "source": [
    "# 4. How do you iterate through a list using a for loop in Python?\n"
   ]
  },
  {
   "cell_type": "code",
   "execution_count": 11,
   "id": "1a3324d9",
   "metadata": {},
   "outputs": [
    {
     "name": "stdout",
     "output_type": "stream",
     "text": [
      "1\n",
      "3\n",
      "5\n",
      "7\n",
      "9\n"
     ]
    }
   ],
   "source": [
    "# Python3 code to iterate over a list\n",
    "list = [1, 3, 5, 7, 9]\n",
    "\n",
    "# getting length of list\n",
    "length = len(list)\n",
    "\n",
    "# Iterating the index\n",
    "# same as 'for i in range(len(list))'\n",
    "for i in range(length):\n",
    "    print(list[i])\n"
   ]
  },
  {
   "cell_type": "markdown",
   "id": "093cf3e9",
   "metadata": {},
   "source": [
    "# 5. Write a Python program to find the product of all elements in a list using a for loop.\n"
   ]
  },
  {
   "cell_type": "code",
   "execution_count": 12,
   "id": "0c205516",
   "metadata": {},
   "outputs": [
    {
     "name": "stdout",
     "output_type": "stream",
     "text": [
      "The product of all elements in the list is: 120\n"
     ]
    }
   ],
   "source": [
    "# Define your list\n",
    "my_list = [1,2,3,4,5]\n",
    "\n",
    "# Initialize a variable to store the product (initialize it to 1)\n",
    "product = 1\n",
    "\n",
    "# Use a for loop to iterate through the elements in the list\n",
    "for element in my_list:\n",
    "    product *= element\n",
    "\n",
    "# Print the result\n",
    "print(\"The product of all elements in the list is:\", product)\n"
   ]
  },
  {
   "cell_type": "markdown",
   "id": "1ccc5a1d",
   "metadata": {},
   "source": [
    "# 6. Create a Python program that prints all even numbers from 1 to 20 using a for loop.\n"
   ]
  },
  {
   "cell_type": "code",
   "execution_count": 13,
   "id": "6c5b298f",
   "metadata": {},
   "outputs": [
    {
     "name": "stdout",
     "output_type": "stream",
     "text": [
      "2\n",
      "4\n",
      "6\n",
      "8\n",
      "10\n",
      "12\n",
      "14\n",
      "16\n",
      "18\n",
      "20\n"
     ]
    }
   ],
   "source": [
    "# Use a for loop to iterate through numbers from 1 to 20\n",
    "for num in range(1, 21):\n",
    "    # Check if the number is even\n",
    "    if num % 2 == 0:\n",
    "        print(num)\n"
   ]
  },
  {
   "cell_type": "markdown",
   "id": "077281cf",
   "metadata": {},
   "source": [
    "# 7. Write a Python program that calculates the factorial of a number using a for loop.\n"
   ]
  },
  {
   "cell_type": "code",
   "execution_count": 14,
   "id": "415f09a9",
   "metadata": {},
   "outputs": [
    {
     "name": "stdout",
     "output_type": "stream",
     "text": [
      "Enter a number: 5\n",
      "The factorial of 5 is 120\n"
     ]
    }
   ],
   "source": [
    "# Input: Get the number from the user\n",
    "n = int(input(\"Enter a number: \"))\n",
    "\n",
    "# Initialize the factorial to 1\n",
    "factorial = 1\n",
    "\n",
    "# Use a for loop to calculate the factorial\n",
    "for i in range(1, n + 1):\n",
    "    factorial *= i\n",
    "\n",
    "# Print the result\n",
    "print(f\"The factorial of {n} is {factorial}\")\n"
   ]
  },
  {
   "cell_type": "markdown",
   "id": "46bf9002",
   "metadata": {},
   "source": [
    "# 8. How can you iterate through the characters of a string using a for loop in Python?\n"
   ]
  },
  {
   "cell_type": "code",
   "execution_count": 15,
   "id": "5f41b1b5",
   "metadata": {},
   "outputs": [
    {
     "name": "stdout",
     "output_type": "stream",
     "text": [
      "H\n",
      "e\n",
      "l\n",
      "l\n",
      "o\n",
      ",\n",
      " \n",
      "W\n",
      "o\n",
      "r\n",
      "l\n",
      "d\n",
      "!\n"
     ]
    }
   ],
   "source": [
    "# Define a string\n",
    "my_string = \"Hello, World!\"\n",
    "\n",
    "# Use a for loop to iterate through the characters in the string\n",
    "for char in my_string:\n",
    "    print(char)\n"
   ]
  },
  {
   "cell_type": "markdown",
   "id": "782225af",
   "metadata": {},
   "source": [
    "# 9. Write a Python program to find the largest number in a list using a for loop.\n"
   ]
  },
  {
   "cell_type": "code",
   "execution_count": 17,
   "id": "74554e14",
   "metadata": {},
   "outputs": [
    {
     "name": "stdout",
     "output_type": "stream",
     "text": [
      "The largest number in the list is: 5\n"
     ]
    }
   ],
   "source": [
    "# Define your list\n",
    "my_list = [1,2,3,4,5]\n",
    "\n",
    "# Initialize a variable to store the largest number\n",
    "largest = my_list[0]  # Initialize it with the first element of the list\n",
    "\n",
    "# Use a for loop to iterate through the elements in the list\n",
    "for element in my_list:\n",
    "    if element > largest:\n",
    "        largest = element\n",
    "\n",
    "# Print the result\n",
    "print(\"The largest number in the list is:\", largest)\n"
   ]
  },
  {
   "cell_type": "markdown",
   "id": "15834538",
   "metadata": {},
   "source": [
    "# 10. Create a Python program that prints the Fibonacci sequence up to a specified limit using a for loop.\n"
   ]
  },
  {
   "cell_type": "code",
   "execution_count": 18,
   "id": "260cbced",
   "metadata": {},
   "outputs": [
    {
     "name": "stdout",
     "output_type": "stream",
     "text": [
      "Enter the limit for the Fibonacci sequence: 10\n",
      "0\n",
      "1\n",
      "1\n",
      "2\n",
      "3\n",
      "5\n",
      "8\n",
      "13\n",
      "21\n",
      "34\n"
     ]
    }
   ],
   "source": [
    "# Input: Get the limit from the user\n",
    "limit = int(input(\"Enter the limit for the Fibonacci sequence: \"))\n",
    "\n",
    "# Initialize the first two Fibonacci numbers\n",
    "fibonacci_a, fibonacci_b = 0, 1\n",
    "\n",
    "# Print the first two numbers (0 and 1)\n",
    "print(fibonacci_a)\n",
    "print(fibonacci_b)\n",
    "\n",
    "# Use a for loop to generate and print the Fibonacci sequence up to the limit\n",
    "for _ in range(2, limit):\n",
    "    fibonacci_next = fibonacci_a + fibonacci_b\n",
    "    print(fibonacci_next)\n",
    "    fibonacci_a, fibonacci_b = fibonacci_b, fibonacci_next\n"
   ]
  },
  {
   "cell_type": "markdown",
   "id": "c0c321e3",
   "metadata": {},
   "source": [
    "# 11. Write a Python program to count the number of vowels in a given string using a for loop.\n"
   ]
  },
  {
   "cell_type": "code",
   "execution_count": 19,
   "id": "1346ce69",
   "metadata": {},
   "outputs": [
    {
     "name": "stdout",
     "output_type": "stream",
     "text": [
      "Enter a string: mayur\n",
      "Number of vowels in the string: 2\n"
     ]
    }
   ],
   "source": [
    "# Get the input string from the user\n",
    "input_string = input(\"Enter a string: \")\n",
    "\n",
    "# Convert the input string to lowercase to handle both uppercase and lowercase vowels\n",
    "input_string = input_string.lower()\n",
    "\n",
    "# Initialize a variable to count the number of vowels\n",
    "vowel_count = 0\n",
    "\n",
    "# Define a list of vowels\n",
    "vowels = \"aeiou\"\n",
    "\n",
    "# Use a for loop to iterate through the characters in the string\n",
    "for char in input_string:\n",
    "    if char in vowels:\n",
    "        vowel_count += 1\n",
    "\n",
    "# Print the result\n",
    "print(\"Number of vowels in the string:\", vowel_count)\n"
   ]
  },
  {
   "cell_type": "markdown",
   "id": "0c3bb1c1",
   "metadata": {},
   "source": [
    "# 12. Create a Python program that generates a multiplication table for a given number using a for loop.\n"
   ]
  },
  {
   "cell_type": "code",
   "execution_count": 20,
   "id": "09af5f98",
   "metadata": {},
   "outputs": [
    {
     "name": "stdout",
     "output_type": "stream",
     "text": [
      "Enter a number: 2\n",
      "Multiplication table for 2:\n",
      "2 x 1 = 2\n",
      "2 x 2 = 4\n",
      "2 x 3 = 6\n",
      "2 x 4 = 8\n",
      "2 x 5 = 10\n",
      "2 x 6 = 12\n",
      "2 x 7 = 14\n",
      "2 x 8 = 16\n",
      "2 x 9 = 18\n",
      "2 x 10 = 20\n"
     ]
    }
   ],
   "source": [
    "# Get the number for which you want to generate the multiplication table\n",
    "number = int(input(\"Enter a number: \"))\n",
    "\n",
    "# Define the range of the multiplication table (e.g., from 1 to 10)\n",
    "start = 1\n",
    "end = 10\n",
    "\n",
    "# Use a for loop to generate and print the multiplication table\n",
    "print(f\"Multiplication table for {number}:\")\n",
    "\n",
    "for i in range(start, end + 1):\n",
    "    product = number * i\n",
    "    print(f\"{number} x {i} = {product}\")\n"
   ]
  },
  {
   "cell_type": "markdown",
   "id": "7a4add8c",
   "metadata": {},
   "source": [
    "# 13. Write a Python program to reverse a list using a for loop.\n"
   ]
  },
  {
   "cell_type": "code",
   "execution_count": 22,
   "id": "9b269097",
   "metadata": {},
   "outputs": [
    {
     "name": "stdout",
     "output_type": "stream",
     "text": [
      "Original list: [1, 2, 3, 4, 5]\n",
      "Reversed list: [5, 4, 3, 2, 1]\n"
     ]
    }
   ],
   "source": [
    "# Define your list\n",
    "my_list = [1,2,3,4,5]\n",
    "\n",
    "# Initialize an empty list to store the reversed elements\n",
    "reversed_list = []\n",
    "\n",
    "# Use a for loop to reverse the list\n",
    "for i in range(len(my_list) - 1, -1, -1):\n",
    "    reversed_list.append(my_list[i])\n",
    "\n",
    "# Print the reversed list\n",
    "print(\"Original list:\", my_list)\n",
    "print(\"Reversed list:\", reversed_list)\n"
   ]
  },
  {
   "cell_type": "markdown",
   "id": "436740a6",
   "metadata": {},
   "source": [
    "# 14. Write a Python program to find the common elements between two lists using a for loop.\n"
   ]
  },
  {
   "cell_type": "code",
   "execution_count": 24,
   "id": "ddf15e24",
   "metadata": {},
   "outputs": [
    {
     "name": "stdout",
     "output_type": "stream",
     "text": [
      "Common elements between the two lists: [4, 5]\n"
     ]
    }
   ],
   "source": [
    "# Define two lists\n",
    "list1 = [1,2,3,4,5]\n",
    "list2 = [4,5,6,7,8]\n",
    "\n",
    "# Initialize an empty list to store common elements\n",
    "common_elements = []\n",
    "\n",
    "# Use a for loop to check for common elements\n",
    "for item1 in list1:\n",
    "    for item2 in list2:\n",
    "        if item1 == item2:\n",
    "            common_elements.append(item1)\n",
    "\n",
    "# Print the common elements\n",
    "print(\"Common elements between the two lists:\", common_elements)\n"
   ]
  },
  {
   "cell_type": "markdown",
   "id": "0c709ef3",
   "metadata": {},
   "source": [
    "# 15. Explain how to use a for loop to iterate through the keys and values of a dictionary in Python.\n"
   ]
  },
  {
   "cell_type": "code",
   "execution_count": 26,
   "id": "6d76dee8",
   "metadata": {},
   "outputs": [
    {
     "name": "stdout",
     "output_type": "stream",
     "text": [
      "Key: name, Value: Mayur\n",
      "Key: class, Value: TE\n",
      "Key: branch, Value: EXTC\n"
     ]
    }
   ],
   "source": [
    "# Define a dictionary\n",
    "my_dict = {'name': 'Mayur', 'class': 'TE', 'branch': 'EXTC'}\n",
    "\n",
    "# Use a for loop to iterate through the keys and values\n",
    "for key, value in my_dict.items():\n",
    "    print(f\"Key: {key}, Value: {value}\")\n"
   ]
  },
  {
   "cell_type": "markdown",
   "id": "c85c57a8",
   "metadata": {},
   "source": [
    "# 16. Write a Python program to find the GCD (Greatest Common Divisor) of two numbers using a for loop.\n"
   ]
  },
  {
   "cell_type": "code",
   "execution_count": 27,
   "id": "c3bdf5e0",
   "metadata": {},
   "outputs": [
    {
     "name": "stdout",
     "output_type": "stream",
     "text": [
      "Enter the first number: 10\n",
      "Enter the second number: 20\n",
      "The GCD of 10 and 20 is 10\n"
     ]
    }
   ],
   "source": [
    "# Function to find the GCD of two numbers using the Euclidean algorithm\n",
    "def gcd(a, b):\n",
    "    while b:\n",
    "        a, b = b, a % b\n",
    "    return a\n",
    "\n",
    "# Input: Get two numbers from the user\n",
    "num1 = int(input(\"Enter the first number: \"))\n",
    "num2 = int(input(\"Enter the second number: \"))\n",
    "\n",
    "# Calculate and print the GCD\n",
    "result = gcd(num1, num2)\n",
    "print(f\"The GCD of {num1} and {num2} is {result}\")\n"
   ]
  },
  {
   "cell_type": "markdown",
   "id": "7d4364ae",
   "metadata": {},
   "source": [
    "# 17. Create a Python program that checks if a string is a palindrome using a for loop.\n"
   ]
  },
  {
   "cell_type": "code",
   "execution_count": 28,
   "id": "2fed74d2",
   "metadata": {},
   "outputs": [
    {
     "name": "stdout",
     "output_type": "stream",
     "text": [
      "Enter a string: Mayur\n",
      "The string is not a palindrome.\n"
     ]
    }
   ],
   "source": [
    "# Get the input string from the user\n",
    "input_string = input(\"Enter a string: \")\n",
    "\n",
    "# Convert the input string to lowercase for case-insensitive comparison\n",
    "input_string = input_string.lower()\n",
    "\n",
    "# Remove spaces and punctuation from the input string\n",
    "input_string = ''.join(e for e in input_string if e.isalnum())\n",
    "\n",
    "# Initialize two pointers for checking palindromes\n",
    "left = 0\n",
    "right = len(input_string) - 1\n",
    "\n",
    "# Use a for loop to check if the string is a palindrome\n",
    "is_palindrome = True\n",
    "\n",
    "for _ in range(len(input_string) // 2):\n",
    "    if input_string[left] != input_string[right]:\n",
    "        is_palindrome = False\n",
    "        break\n",
    "    left += 1\n",
    "    right -= 1\n",
    "\n",
    "# Print the result\n",
    "if is_palindrome:\n",
    "    print(\"The string is a palindrome.\")\n",
    "else:\n",
    "    print(\"The string is not a palindrome.\")\n"
   ]
  },
  {
   "cell_type": "markdown",
   "id": "2d2970c5",
   "metadata": {},
   "source": [
    "# 18. Write a Python program to remove duplicates from a list using a for loop.\n"
   ]
  },
  {
   "cell_type": "code",
   "execution_count": 30,
   "id": "a369ee29",
   "metadata": {},
   "outputs": [
    {
     "name": "stdout",
     "output_type": "stream",
     "text": [
      "Original list: [1, 2, 3, 4, 5]\n",
      "List with duplicates removed: [1, 2, 3, 4, 5]\n"
     ]
    }
   ],
   "source": [
    "# Define your list with duplicates\n",
    "my_list = [1,2,3,4,5]\n",
    "\n",
    "# Initialize an empty list to store unique elements\n",
    "unique_list = []\n",
    "\n",
    "# Use a for loop to iterate through the original list\n",
    "for item in my_list:\n",
    "    # If the item is not already in the unique_list, append it\n",
    "    if item not in unique_list:\n",
    "        unique_list.append(item)\n",
    "\n",
    "# The unique_list now contains the elements without duplicates\n",
    "print(\"Original list:\", my_list)\n",
    "print(\"List with duplicates removed:\", unique_list)\n"
   ]
  },
  {
   "cell_type": "markdown",
   "id": "a0b0926a",
   "metadata": {},
   "source": [
    "# 19. Create a Python program that counts the number of words in a sentence using a for loop.\n"
   ]
  },
  {
   "cell_type": "code",
   "execution_count": 31,
   "id": "6d57deb0",
   "metadata": {},
   "outputs": [
    {
     "name": "stdout",
     "output_type": "stream",
     "text": [
      "Enter a sentence: My name is mayur santosh dalvi .\n",
      "The number of words in the sentence is: 7\n"
     ]
    }
   ],
   "source": [
    "# Get the input sentence from the user\n",
    "sentence = input(\"Enter a sentence: \")\n",
    "\n",
    "# Initialize a variable to count the number of words\n",
    "word_count = 0\n",
    "\n",
    "# Use a for loop to count words in the sentence\n",
    "for word in sentence.split():\n",
    "    word_count += 1\n",
    "\n",
    "# Print the result\n",
    "print(f\"The number of words in the sentence is: {word_count}\")\n"
   ]
  },
  {
   "cell_type": "markdown",
   "id": "865d0154",
   "metadata": {},
   "source": [
    "# 20. Write a Python program to find the sum of all odd numbers from 1 to 50 using a for loop.\n"
   ]
  },
  {
   "cell_type": "code",
   "execution_count": 32,
   "id": "e48eec7c",
   "metadata": {},
   "outputs": [
    {
     "name": "stdout",
     "output_type": "stream",
     "text": [
      "The sum of all odd numbers from 1 to 50 is: 625\n"
     ]
    }
   ],
   "source": [
    "# Initialize a variable to store the sum\n",
    "total_sum = 0\n",
    "\n",
    "# Use a for loop to iterate through numbers from 1 to 50\n",
    "for num in range(1, 51):\n",
    "    # Check if the number is odd\n",
    "    if num % 2 != 0:\n",
    "        total_sum += num\n",
    "\n",
    "# Print the result\n",
    "print(\"The sum of all odd numbers from 1 to 50 is:\", total_sum)\n"
   ]
  },
  {
   "cell_type": "markdown",
   "id": "e48becdf",
   "metadata": {},
   "source": [
    "# 21. Write a Python program that checks if a given year is a leap year using a for loop.\n"
   ]
  },
  {
   "cell_type": "code",
   "execution_count": 33,
   "id": "a37baeb5",
   "metadata": {},
   "outputs": [
    {
     "name": "stdout",
     "output_type": "stream",
     "text": [
      "Enter a year: 2004\n",
      "2004 is a leap year.\n"
     ]
    }
   ],
   "source": [
    "# Input: Get the year from the user\n",
    "year = int(input(\"Enter a year: \"))\n",
    "\n",
    "# Initialize a variable to represent whether it's a leap year or not\n",
    "is_leap_year = False\n",
    "\n",
    "# Use a for loop to check if it's a leap year\n",
    "for _ in range(1):\n",
    "    if (year % 4 == 0 and year % 100 != 0) or (year % 400 == 0):\n",
    "        is_leap_year = True\n",
    "\n",
    "# Print the result\n",
    "if is_leap_year:\n",
    "    print(f\"{year} is a leap year.\")\n",
    "else:\n",
    "    print(f\"{year} is not a leap year.\")\n"
   ]
  },
  {
   "cell_type": "markdown",
   "id": "baf85bd0",
   "metadata": {},
   "source": [
    "# 22. Create a Python program that calculates the square root of a number using a for loop.\n"
   ]
  },
  {
   "cell_type": "code",
   "execution_count": 35,
   "id": "a0692fe7",
   "metadata": {},
   "outputs": [
    {
     "name": "stdout",
     "output_type": "stream",
     "text": [
      "Enter a number: 4\n",
      "The square root of 4.0 is approximately 2.0\n"
     ]
    }
   ],
   "source": [
    "# Input: Get the number for which you want to calculate the square root\n",
    "number = float(input(\"Enter a number: \"))\n",
    "\n",
    "# Initial guess for the square root\n",
    "guess = number / 2.0\n",
    "\n",
    "# Number of iterations for approximation (you can adjust this)\n",
    "iterations = 10\n",
    "\n",
    "# Use a for loop to approximate the square root\n",
    "for _ in range(iterations):\n",
    "    guess = (guess + number / guess) / 2.0\n",
    "\n",
    "# Print the result\n",
    "print(f\"The square root of {number} is approximately {guess}\")\n"
   ]
  },
  {
   "cell_type": "markdown",
   "id": "df019f0e",
   "metadata": {},
   "source": [
    "# 23. Write a Python program to find the LCM (Least Common Multiple) of two numbers using a for loop.\n"
   ]
  },
  {
   "cell_type": "code",
   "execution_count": 36,
   "id": "94ffaf6c",
   "metadata": {},
   "outputs": [
    {
     "name": "stdout",
     "output_type": "stream",
     "text": [
      "Enter the first number: 10\n",
      "Enter the second number: 20\n",
      "The LCM of 10 and 20 is 20\n"
     ]
    }
   ],
   "source": [
    "# Function to find the GCD (Greatest Common Divisor) of two numbers\n",
    "def gcd(a, b):\n",
    "    while b:\n",
    "        a, b = b, a % b\n",
    "    return a\n",
    "\n",
    "# Function to find the LCM (Least Common Multiple) of two numbers\n",
    "def lcm(a, b):\n",
    "    return (a * b) // gcd(a, b)\n",
    "\n",
    "# Input: Get the two numbers from the user\n",
    "num1 = int(input(\"Enter the first number: \"))\n",
    "num2 = int(input(\"Enter the second number: \"))\n",
    "\n",
    "# Calculate and print the LCM\n",
    "result = lcm(num1, num2)\n",
    "print(f\"The LCM of {num1} and {num2} is {result}\")\n"
   ]
  },
  {
   "cell_type": "markdown",
   "id": "cca2e209",
   "metadata": {},
   "source": [
    "# If else :\n"
   ]
  },
  {
   "cell_type": "markdown",
   "id": "71c9f69e",
   "metadata": {},
   "source": [
    "# 1. Write a Python program to check if a number is positive, negative, or zero using an if-else statement.\n"
   ]
  },
  {
   "cell_type": "code",
   "execution_count": 1,
   "id": "9603530f",
   "metadata": {},
   "outputs": [
    {
     "name": "stdout",
     "output_type": "stream",
     "text": [
      "Enter a number: 10\n",
      "The number is positive.\n"
     ]
    }
   ],
   "source": [
    "# Input a number from the user\n",
    "num = float(input(\"Enter a number: \"))\n",
    "\n",
    "# Check if the number is positive, negative, or zero\n",
    "if num > 0:\n",
    "    print(\"The number is positive.\")\n",
    "elif num < 0:\n",
    "    print(\"The number is negative.\")\n",
    "else:\n",
    "    print(\"The number is zero.\")\n"
   ]
  },
  {
   "cell_type": "markdown",
   "id": "e940a62f",
   "metadata": {},
   "source": [
    "# 2. Create a Python program that checks if a given number is even or odd using an if-else statement.\n"
   ]
  },
  {
   "cell_type": "code",
   "execution_count": 2,
   "id": "ea1d5b6d",
   "metadata": {},
   "outputs": [
    {
     "name": "stdout",
     "output_type": "stream",
     "text": [
      "Enter a number: 10\n",
      "The number is even.\n"
     ]
    }
   ],
   "source": [
    "# Input a number from the user\n",
    "num = int(input(\"Enter a number: \"))\n",
    "\n",
    "# Check if the number is even or odd\n",
    "if num % 2 == 0:\n",
    "    print(\"The number is even.\")\n",
    "else:\n",
    "    print(\"The number is odd.\")\n"
   ]
  },
  {
   "cell_type": "markdown",
   "id": "61937f0f",
   "metadata": {},
   "source": [
    "# 3. How can you use nested if-else statements in Python, and provide an example?\n"
   ]
  },
  {
   "cell_type": "markdown",
   "id": "1134cf84",
   "metadata": {},
   "source": [
    "Nested if-else statements in Python are used to create more complex conditional logic by placing one if-else statement inside\n",
    "another. This allows you to make decisions based on multiple conditions. The inner if-else statements are executed based on the \n",
    "conditions of the outer if-else statements."
   ]
  },
  {
   "cell_type": "code",
   "execution_count": 3,
   "id": "55b8323d",
   "metadata": {},
   "outputs": [
    {
     "name": "stdout",
     "output_type": "stream",
     "text": [
      "Enter your age: 18\n",
      "You are eligible to vote.\n",
      "Do you want to register to vote? (yes/no): yes\n",
      "Great! You can register to vote at your local registration office.\n"
     ]
    }
   ],
   "source": [
    "# example:\n",
    "# Input the age of a person\n",
    "age = int(input(\"Enter your age: \"))\n",
    "\n",
    "# Check if the person is eligible to vote\n",
    "if age >= 18:\n",
    "    print(\"You are eligible to vote.\")\n",
    "    \n",
    "    # Check if the person wants to register to vote\n",
    "    register = input(\"Do you want to register to vote? (yes/no): \")\n",
    "    \n",
    "    if register.lower() == \"yes\":\n",
    "        print(\"Great! You can register to vote at your local registration office.\")\n",
    "    else:\n",
    "        print(\"Okay! You can register to vote when you're ready.\")\n",
    "else:\n",
    "    print(\"You are not eligible to vote yet.\")\n"
   ]
  },
  {
   "cell_type": "markdown",
   "id": "17ffcb44",
   "metadata": {},
   "source": [
    "# 4. Write a Python program to determine the largest of three numbers using if-else.\n"
   ]
  },
  {
   "cell_type": "code",
   "execution_count": 4,
   "id": "2c794a96",
   "metadata": {},
   "outputs": [
    {
     "name": "stdout",
     "output_type": "stream",
     "text": [
      "Enter the first number: 10\n",
      "Enter the second number: 20\n",
      "Enter the third number: 30\n",
      "The largest number is: 30.0\n"
     ]
    }
   ],
   "source": [
    "# Input three numbers from the user\n",
    "num1 = float(input(\"Enter the first number: \"))\n",
    "num2 = float(input(\"Enter the second number: \"))\n",
    "num3 = float(input(\"Enter the third number: \"))\n",
    "\n",
    "# Assume the first number is the largest initially\n",
    "largest = num1\n",
    "\n",
    "# Compare with the second number\n",
    "if num2 > largest:\n",
    "    largest = num2\n",
    "\n",
    "# Compare with the third number\n",
    "if num3 > largest:\n",
    "    largest = num3\n",
    "\n",
    "# Print the largest number\n",
    "print(\"The largest number is:\", largest)\n"
   ]
  },
  {
   "cell_type": "markdown",
   "id": "c11deb9c",
   "metadata": {},
   "source": [
    "# 5. Write a Python program that calculates the absolute value of a number using if-else."
   ]
  },
  {
   "cell_type": "code",
   "execution_count": 5,
   "id": "6a0172f8",
   "metadata": {},
   "outputs": [
    {
     "name": "stdout",
     "output_type": "stream",
     "text": [
      "Enter a number: 15\n",
      "The absolute value of 15.0 is 15.0\n"
     ]
    }
   ],
   "source": [
    "# Input a number from the user\n",
    "num = float(input(\"Enter a number: \"))\n",
    "\n",
    "# Calculate the absolute value using if-else\n",
    "if num < 0:\n",
    "    absolute_value = -num\n",
    "else:\n",
    "    absolute_value = num\n",
    "\n",
    "# Print the absolute value\n",
    "print(\"The absolute value of\", num, \"is\", absolute_value)\n"
   ]
  },
  {
   "cell_type": "markdown",
   "id": "94595fa4",
   "metadata": {},
   "source": [
    "# 6. Create a Python program that checks if a given character is a vowel or consonant using if-else.\n"
   ]
  },
  {
   "cell_type": "code",
   "execution_count": 7,
   "id": "96874b4c",
   "metadata": {},
   "outputs": [
    {
     "name": "stdout",
     "output_type": "stream",
     "text": [
      "Enter a character: m\n",
      "m is a consonant.\n"
     ]
    }
   ],
   "source": [
    "# Input a character from the user (assuming it's a single character)\n",
    "char = input(\"Enter a character: \")\n",
    "\n",
    "# Convert the character to lowercase to handle both cases\n",
    "char = char.lower()\n",
    "\n",
    "# Check if the character is a vowel or a consonant\n",
    "if char.isalpha() and len(char) == 1:\n",
    "    if char in 'aeiou':\n",
    "        print(f\"{char} is a vowel.\")\n",
    "    else:\n",
    "        print(f\"{char} is a consonant.\")\n",
    "else:\n",
    "    print(\"Please enter a single alphabet character.\")\n"
   ]
  },
  {
   "cell_type": "markdown",
   "id": "d57ff219",
   "metadata": {},
   "source": [
    "# 7. Write a Python program to determine if a user is eligible to vote based on their age using if-else.\n"
   ]
  },
  {
   "cell_type": "code",
   "execution_count": 8,
   "id": "235e9d9a",
   "metadata": {},
   "outputs": [
    {
     "name": "stdout",
     "output_type": "stream",
     "text": [
      "Enter your age: 19\n",
      "You are eligible to vote.\n"
     ]
    }
   ],
   "source": [
    "# Input the age of the user\n",
    "age = int(input(\"Enter your age: \"))\n",
    "\n",
    "# Check if the user is eligible to vote\n",
    "if age >= 18:\n",
    "    print(\"You are eligible to vote.\")\n",
    "else:\n",
    "    print(\"You are not eligible to vote yet.\")\n"
   ]
  },
  {
   "cell_type": "markdown",
   "id": "ffad9b6f",
   "metadata": {},
   "source": [
    "# 8. Create a Python program that calculates the discount amount based on the purchase amount using if-else"
   ]
  },
  {
   "cell_type": "code",
   "execution_count": 9,
   "id": "4127a063",
   "metadata": {},
   "outputs": [
    {
     "name": "stdout",
     "output_type": "stream",
     "text": [
      "Enter the purchase amount: $1000\n",
      "You qualify for a 10.0% discount.\n",
      "Discount amount: $100.00\n",
      "Final amount after discount: $900.00\n"
     ]
    }
   ],
   "source": [
    "# Input the purchase amount from the user\n",
    "purchase_amount = float(input(\"Enter the purchase amount: $\"))\n",
    "\n",
    "# Define the discount threshold and discount rate\n",
    "discount_threshold = 100.0  # Threshold for a discount\n",
    "discount_rate = 0.1  # 10% discount rate\n",
    "\n",
    "# Check if the purchase amount qualifies for a discount\n",
    "if purchase_amount >= discount_threshold:\n",
    "    # Calculate the discount amount\n",
    "    discount_amount = purchase_amount * discount_rate\n",
    "    # Calculate the final amount after applying the discount\n",
    "    final_amount = purchase_amount - discount_amount\n",
    "    print(f\"You qualify for a {discount_rate*100}% discount.\")\n",
    "    print(f\"Discount amount: ${discount_amount:.2f}\")\n",
    "    print(f\"Final amount after discount: ${final_amount:.2f}\")\n",
    "else:\n",
    "    print(\"You do not qualify for a discount.\")\n",
    "    print(f\"Your total amount is: ${purchase_amount:.2f}\")\n"
   ]
  },
  {
   "cell_type": "markdown",
   "id": "c0b7219d",
   "metadata": {},
   "source": [
    "# 9. Write a Python program to check if a number is within a specified range using if-else.\n"
   ]
  },
  {
   "cell_type": "code",
   "execution_count": 12,
   "id": "d89f7d1c",
   "metadata": {},
   "outputs": [
    {
     "name": "stdout",
     "output_type": "stream",
     "text": [
      "Enter a number: 55\n",
      "The number 55 is outside the range [10, 50].\n"
     ]
    }
   ],
   "source": [
    "# Define the range limits\n",
    "lower_limit = 10\n",
    "upper_limit = 50\n",
    "\n",
    "# Input a number from the user\n",
    "num = int(input(\"Enter a number: \"))\n",
    "\n",
    "# Check if the number is within the specified range\n",
    "if lower_limit <= num <= upper_limit:\n",
    "    print(f\"The number {num} is within the range [{lower_limit}, {upper_limit}].\")\n",
    "else:\n",
    "    print(f\"The number {num} is outside the range [{lower_limit}, {upper_limit}].\")\n"
   ]
  },
  {
   "cell_type": "markdown",
   "id": "9af879e9",
   "metadata": {},
   "source": [
    "# 10. Create a Python program that determines the grade of a student based on their score using if-else."
   ]
  },
  {
   "cell_type": "code",
   "execution_count": 13,
   "id": "9a387bd0",
   "metadata": {},
   "outputs": [
    {
     "name": "stdout",
     "output_type": "stream",
     "text": [
      "Enter the student's score: 100\n",
      "The student's grade is: A\n"
     ]
    }
   ],
   "source": [
    "# Input the student's score from the user\n",
    "score = float(input(\"Enter the student's score: \"))\n",
    "\n",
    "# Determine the grade based on the score\n",
    "if 90 <= score <= 100:\n",
    "    grade = 'A'\n",
    "elif 80 <= score < 90:\n",
    "    grade = 'B'\n",
    "elif 70 <= score < 80:\n",
    "    grade = 'C'\n",
    "elif 60 <= score < 70:\n",
    "    grade = 'D'\n",
    "elif 0 <= score < 60:\n",
    "    grade = 'F'\n",
    "else:\n",
    "    grade = 'Invalid input'\n",
    "\n",
    "# Print the grade\n",
    "print(f\"The student's grade is: {grade}\")\n"
   ]
  },
  {
   "cell_type": "markdown",
   "id": "5ae454fe",
   "metadata": {},
   "source": [
    "# 11. Write a Python program to check if a string is empty or not using if-else.\n"
   ]
  },
  {
   "cell_type": "code",
   "execution_count": 16,
   "id": "8787d51a",
   "metadata": {},
   "outputs": [
    {
     "name": "stdout",
     "output_type": "stream",
     "text": [
      "Enter a string: mayur\n",
      "The string is not empty.\n"
     ]
    }
   ],
   "source": [
    "# Input a string from the user\n",
    "input_string = input(\"Enter a string: \")\n",
    "\n",
    "# Check if the string is empty or not\n",
    "if len(input_string) == 0:\n",
    "    print(\"The string is empty.\")\n",
    "else:\n",
    "    print(\"The string is not empty.\")\n"
   ]
  },
  {
   "cell_type": "markdown",
   "id": "120d2565",
   "metadata": {},
   "source": [
    "# 12. Create a Python program that identifies the type of a triangle (e.g., equilateral, isosceles, or scalene) based on input values using if-else"
   ]
  },
  {
   "cell_type": "code",
   "execution_count": 17,
   "id": "d26aba82",
   "metadata": {},
   "outputs": [
    {
     "name": "stdout",
     "output_type": "stream",
     "text": [
      "Enter the length of the first side: 10\n",
      "Enter the length of the second side: 20\n",
      "Enter the length of the third side: 10\n",
      "The triangle is a Isosceles triangle.\n"
     ]
    }
   ],
   "source": [
    "# Input the lengths of the three sides of the triangle\n",
    "side1 = float(input(\"Enter the length of the first side: \"))\n",
    "side2 = float(input(\"Enter the length of the second side: \"))\n",
    "side3 = float(input(\"Enter the length of the third side: \"))\n",
    "\n",
    "# Check the type of triangle based on the side lengths\n",
    "if side1 == side2 == side3:\n",
    "    triangle_type = \"Equilateral\"\n",
    "elif side1 == side2 or side1 == side3 or side2 == side3:\n",
    "    triangle_type = \"Isosceles\"\n",
    "else:\n",
    "    triangle_type = \"Scalene\"\n",
    "\n",
    "# Print the type of triangle\n",
    "print(f\"The triangle is a {triangle_type} triangle.\")\n"
   ]
  },
  {
   "cell_type": "markdown",
   "id": "34760623",
   "metadata": {},
   "source": [
    "# 13. Write a Python program to determine the day of the week based on a user-provided number using if-else."
   ]
  },
  {
   "cell_type": "code",
   "execution_count": 18,
   "id": "9dabbca4",
   "metadata": {},
   "outputs": [
    {
     "name": "stdout",
     "output_type": "stream",
     "text": [
      "Enter a number (1-7) to represent a day of the week: 1\n",
      "The day corresponding to number 1 is Monday.\n"
     ]
    }
   ],
   "source": [
    "# Input a number from the user\n",
    "day_number = int(input(\"Enter a number (1-7) to represent a day of the week: \"))\n",
    "\n",
    "# Determine the day of the week based on the number\n",
    "if day_number == 1:\n",
    "    day_name = \"Monday\"\n",
    "elif day_number == 2:\n",
    "    day_name = \"Tuesday\"\n",
    "elif day_number == 3:\n",
    "    day_name = \"Wednesday\"\n",
    "elif day_number == 4:\n",
    "    day_name = \"Thursday\"\n",
    "elif day_number == 5:\n",
    "    day_name = \"Friday\"\n",
    "elif day_number == 6:\n",
    "    day_name = \"Saturday\"\n",
    "elif day_number == 7:\n",
    "    day_name = \"Sunday\"\n",
    "else:\n",
    "    day_name = \"Invalid input\"\n",
    "\n",
    "# Print the day of the week\n",
    "print(f\"The day corresponding to number {day_number} is {day_name}.\")\n"
   ]
  },
  {
   "cell_type": "markdown",
   "id": "4edbfd4e",
   "metadata": {},
   "source": [
    "# 14. Create a Python program that checks if a given year is a leap year using both if-else and a function.\n"
   ]
  },
  {
   "cell_type": "code",
   "execution_count": 19,
   "id": "f331cfa1",
   "metadata": {},
   "outputs": [
    {
     "name": "stdout",
     "output_type": "stream",
     "text": [
      "Enter a year: 2004\n",
      "2004 is a leap year.\n"
     ]
    }
   ],
   "source": [
    "# Define a function to check if a year is a leap year\n",
    "def is_leap_year(year):\n",
    "    if (year % 4 == 0 and year % 100 != 0) or (year % 400 == 0):\n",
    "        return True\n",
    "    else:\n",
    "        return False\n",
    "\n",
    "# Input a year from the user\n",
    "year = int(input(\"Enter a year: \"))\n",
    "\n",
    "# Check if it's a leap year using the function\n",
    "if is_leap_year(year):\n",
    "    print(f\"{year} is a leap year.\")\n",
    "else:\n",
    "    print(f\"{year} is not a leap year.\")\n"
   ]
  },
  {
   "cell_type": "markdown",
   "id": "a68fdb28",
   "metadata": {},
   "source": [
    "# 15. How do you use the \"assert\" statement in Python to add debugging checks within if-else blocks?\n"
   ]
  },
  {
   "cell_type": "markdown",
   "id": "9ead1cb1",
   "metadata": {},
   "source": [
    "The assert statement in Python is used to add debugging checks within if-else blocks or other parts of your code to verify \n",
    "whether a certain condition holds true. If the condition provided to assert is False, it raises an AssertionError exception,\n",
    "which can help you identify and fix bugs in your code during development.\n",
    "\n",
    "Here's the basic syntax of the assert statement:\n",
    "\n",
    "assert condition, message\n"
   ]
  },
  {
   "cell_type": "code",
   "execution_count": 20,
   "id": "e45a3bba",
   "metadata": {},
   "outputs": [
    {
     "name": "stdout",
     "output_type": "stream",
     "text": [
      "AssertionError: Input number must be non-negative\n"
     ]
    }
   ],
   "source": [
    "# Here's an example of using assert within an if-else block:\n",
    "# Function to calculate the square of a positive number\n",
    "def calculate_square(number):\n",
    "    assert number >= 0, \"Input number must be non-negative\"\n",
    "    return number ** 2\n",
    "\n",
    "# Example usage\n",
    "try:\n",
    "    result = calculate_square(-5)\n",
    "    print(\"The result is:\", result)\n",
    "except AssertionError as e:\n",
    "    print(\"AssertionError:\", e)\n"
   ]
  },
  {
   "cell_type": "markdown",
   "id": "1d0ad042",
   "metadata": {},
   "source": [
    "# 16. Create a Python program that determines the eligibility of a person for a senior citizen discount based on age using if-else."
   ]
  },
  {
   "cell_type": "code",
   "execution_count": 21,
   "id": "eabecc78",
   "metadata": {},
   "outputs": [
    {
     "name": "stdout",
     "output_type": "stream",
     "text": [
      "Enter your age: 19\n",
      "You are not eligible for a senior citizen discount.\n"
     ]
    }
   ],
   "source": [
    "# Input the age of the person\n",
    "age = int(input(\"Enter your age: \"))\n",
    "\n",
    "# Check if the person is eligible for a senior citizen discount\n",
    "if age >= 60:\n",
    "    print(\"You are eligible for a senior citizen discount.\")\n",
    "else:\n",
    "    print(\"You are not eligible for a senior citizen discount.\")\n"
   ]
  },
  {
   "cell_type": "markdown",
   "id": "e6d1546e",
   "metadata": {},
   "source": [
    "# 17. Write a Python program to categorize a given character as uppercase, lowercase, or neither using if-else."
   ]
  },
  {
   "cell_type": "code",
   "execution_count": 23,
   "id": "7926d3ee",
   "metadata": {},
   "outputs": [
    {
     "name": "stdout",
     "output_type": "stream",
     "text": [
      "Enter a character: Mayur\n",
      "Mayur is neither uppercase nor lowercase.\n"
     ]
    }
   ],
   "source": [
    "# Input a character from the user\n",
    "char = input(\"Enter a character: \")\n",
    "\n",
    "# Check if the character is uppercase, lowercase, or neither\n",
    "if char.isupper():\n",
    "    print(f\"{char} is an uppercase letter.\")\n",
    "elif char.islower():\n",
    "    print(f\"{char} is a lowercase letter.\")\n",
    "else:\n",
    "    print(f\"{char} is neither uppercase nor lowercase.\")\n"
   ]
  },
  {
   "cell_type": "markdown",
   "id": "c725a65b",
   "metadata": {},
   "source": [
    "# 18. Write a Python program to determine the roots of a quadratic equation using if-else.\n"
   ]
  },
  {
   "cell_type": "code",
   "execution_count": 24,
   "id": "620c12b5",
   "metadata": {},
   "outputs": [
    {
     "name": "stdout",
     "output_type": "stream",
     "text": [
      "Enter the coefficient 'a': 10\n",
      "Enter the coefficient 'b': 5\n",
      "Enter the coefficient 'c': 10\n",
      "There are no real roots. The complex roots are: -0.25 + 0.9682458365518543i and -0.25 - 0.9682458365518543i\n"
     ]
    }
   ],
   "source": [
    "import math\n",
    "\n",
    "# Input coefficients a, b, and c from the user\n",
    "a = float(input(\"Enter the coefficient 'a': \"))\n",
    "b = float(input(\"Enter the coefficient 'b': \"))\n",
    "c = float(input(\"Enter the coefficient 'c': \"))\n",
    "\n",
    "# Calculate the discriminant\n",
    "discriminant = b**2 - 4*a*c\n",
    "\n",
    "# Check the number of roots and calculate them using if-else\n",
    "if discriminant > 0:\n",
    "    # Two real and distinct roots\n",
    "    root1 = (-b + math.sqrt(discriminant)) / (2*a)\n",
    "    root2 = (-b - math.sqrt(discriminant)) / (2*a)\n",
    "    print(f\"The roots are real and distinct: {root1} and {root2}\")\n",
    "elif discriminant == 0:\n",
    "    # One real root (double root)\n",
    "    root = -b / (2*a)\n",
    "    print(f\"There is one real root (double root): {root}\")\n",
    "else:\n",
    "    # No real roots (complex roots)\n",
    "    real_part = -b / (2*a)\n",
    "    imaginary_part = math.sqrt(abs(discriminant)) / (2*a)\n",
    "    print(f\"There are no real roots. The complex roots are: {real_part} + {imaginary_part}i and {real_part} - {imaginary_part}i\")\n"
   ]
  },
  {
   "cell_type": "markdown",
   "id": "af699375",
   "metadata": {},
   "source": [
    "# 19. Create a Python program that checks if a given year is a century year or not using if-else.\n"
   ]
  },
  {
   "cell_type": "code",
   "execution_count": 25,
   "id": "7b91aa21",
   "metadata": {},
   "outputs": [
    {
     "name": "stdout",
     "output_type": "stream",
     "text": [
      "Enter a year: 2004\n",
      "2004 is not a century year.\n"
     ]
    }
   ],
   "source": [
    "# Input a year from the user\n",
    "year = int(input(\"Enter a year: \"))\n",
    "\n",
    "# Check if the year is a century year or not\n",
    "if year % 100 == 0:\n",
    "    if year % 400 == 0:\n",
    "        print(f\"{year} is a leap century year.\")\n",
    "    else:\n",
    "        print(f\"{year} is not a leap century year.\")\n",
    "else:\n",
    "    print(f\"{year} is not a century year.\")\n"
   ]
  },
  {
   "cell_type": "markdown",
   "id": "b604441b",
   "metadata": {},
   "source": [
    "# 20. Write a Python program to determine if a given number is a perfect square using if-else.\n"
   ]
  },
  {
   "cell_type": "code",
   "execution_count": 26,
   "id": "9b07afb5",
   "metadata": {},
   "outputs": [
    {
     "name": "stdout",
     "output_type": "stream",
     "text": [
      "Enter a number: 10\n",
      "10 is not a perfect square.\n"
     ]
    }
   ],
   "source": [
    "# Input a number from the user\n",
    "num = int(input(\"Enter a number: \"))\n",
    "\n",
    "# Check if the number is a perfect square\n",
    "if num >= 0:\n",
    "    # Calculate the square root of the number\n",
    "    sqrt_num = int(num ** 0.5)\n",
    "    \n",
    "    # Check if the square of the square root is equal to the original number\n",
    "    if sqrt_num * sqrt_num == num:\n",
    "        print(f\"{num} is a perfect square.\")\n",
    "    else:\n",
    "        print(f\"{num} is not a perfect square.\")\n",
    "else:\n",
    "    print(f\"{num} is not a perfect square (negative numbers cannot be perfect squares).\")\n"
   ]
  },
  {
   "cell_type": "markdown",
   "id": "eeffa818",
   "metadata": {},
   "source": [
    "# 21. Explain the purpose of the \"continue\" and \"break\" statements within if-else loops.\n"
   ]
  },
  {
   "cell_type": "markdown",
   "id": "f1137e47",
   "metadata": {},
   "source": [
    "\"continue\" statement:\n",
    "\n",
    "Purpose: The \"continue\" statement is used to skip the current iteration of a loop and move to the next iteration.\n",
    "Usage: When a \"continue\" statement is encountered inside a loop, it immediately stops the current iteration of the loop and \n",
    "jumps to the beginning of the next iteration. Any remaining code within the current iteration is skipped."
   ]
  },
  {
   "cell_type": "code",
   "execution_count": 27,
   "id": "a3a9efb7",
   "metadata": {},
   "outputs": [
    {
     "name": "stdout",
     "output_type": "stream",
     "text": [
      "1\n",
      "3\n",
      "5\n"
     ]
    }
   ],
   "source": [
    "# Example \n",
    "for i in range(1, 6):\n",
    "    if i % 2 == 0:\n",
    "        continue  # Skip even numbers\n",
    "    print(i)\n"
   ]
  },
  {
   "cell_type": "markdown",
   "id": "5dda3e8c",
   "metadata": {},
   "source": [
    "\"break\" statement:\n",
    "\n",
    "Purpose: The \"break\" statement is used to exit a loop prematurely when a certain condition is met. It terminates the loop \n",
    "entirely, regardless of whether all iterations have been completed."
   ]
  },
  {
   "cell_type": "code",
   "execution_count": 29,
   "id": "0e595645",
   "metadata": {},
   "outputs": [
    {
     "name": "stdout",
     "output_type": "stream",
     "text": [
      "6 found.\n"
     ]
    }
   ],
   "source": [
    "#Example \n",
    "search_list = [2, 4, 6, 8, 10]\n",
    "target = 6\n",
    "\n",
    "for num in search_list:\n",
    "    if num == target:\n",
    "        print(f\"{target} found.\")\n",
    "        break\n",
    "else:\n",
    "    print(f\"{target} not found.\")\n"
   ]
  },
  {
   "cell_type": "markdown",
   "id": "21fe1cdc",
   "metadata": {},
   "source": [
    "# 22. Create a Python program that calculates the BMI (Body Mass Index) of a person based on their weight and height using if-else."
   ]
  },
  {
   "cell_type": "code",
   "execution_count": 30,
   "id": "d5755d81",
   "metadata": {},
   "outputs": [
    {
     "name": "stdout",
     "output_type": "stream",
     "text": [
      "Enter your weight (in kilograms): 50\n",
      "Enter your height (in meters): 100\n",
      "Your BMI is: 0.01\n",
      "You are categorized as: Underweight\n"
     ]
    }
   ],
   "source": [
    "# Input weight (in kilograms) and height (in meters) from the user\n",
    "weight_kg = float(input(\"Enter your weight (in kilograms): \"))\n",
    "height_m = float(input(\"Enter your height (in meters): \"))\n",
    "\n",
    "# Calculate BMI\n",
    "bmi = weight_kg / (height_m ** 2)\n",
    "\n",
    "# Determine the weight status category based on BMI\n",
    "if bmi < 18.5:\n",
    "    category = \"Underweight\"\n",
    "elif 18.5 <= bmi < 24.9:\n",
    "    category = \"Normal Weight\"\n",
    "elif 25.0 <= bmi < 29.9:\n",
    "    category = \"Overweight\"\n",
    "else:\n",
    "    category = \"Obese\"\n",
    "\n",
    "# Print the BMI and weight status category\n",
    "print(f\"Your BMI is: {bmi:.2f}\")\n",
    "print(f\"You are categorized as: {category}\")\n"
   ]
  },
  {
   "cell_type": "markdown",
   "id": "e79677e8",
   "metadata": {},
   "source": [
    "# 23. How can you use the \"filter()\" function with if-else statements to filter elements from a list?\n"
   ]
  },
  {
   "cell_type": "markdown",
   "id": "69ee7f7f",
   "metadata": {},
   "source": [
    "The filter() function in Python is used to filter elements from an iterable (e.g., a list) based on a specified condition. While\n",
    "the filter() function itself doesn't use if-else statements directly, you can achieve filtering with if-else logic by providing \n",
    "a custom function (often referred to as a predicate function) as the filtering condition.\n",
    "\n",
    "Here's how you can use the filter() function with if-else statements to filter elements from a list:\n",
    "\n",
    "1 . Define a custom function that returns True if an element should be included in the filtered result and False otherwise. You \n",
    "can use if-else statements within this function to specify the filtering condition.\n",
    "\n",
    "2 . Use the filter() function to apply the custom function to each element of the iterable (list) and create a new iterable \n",
    "(usually a filtered list) containing the elements that satisfy the condition.\n",
    "\n"
   ]
  },
  {
   "cell_type": "code",
   "execution_count": 32,
   "id": "5f9abd79",
   "metadata": {},
   "outputs": [
    {
     "name": "stdout",
     "output_type": "stream",
     "text": [
      "Even numbers: [2, 4, 6, 8, 10]\n"
     ]
    }
   ],
   "source": [
    "# Here's an example that demonstrates how to use filter() with if-else statements to filter even numbers from a list:\n",
    "# Define a custom function to filter even numbers\n",
    "def is_even(num):\n",
    "    if num % 2 == 0:\n",
    "        return True\n",
    "    else:\n",
    "        return False\n",
    "\n",
    "# Create a list of numbers\n",
    "numbers = [1, 2, 3, 4, 5, 6, 7, 8, 9, 10]\n",
    "\n",
    "# Use the filter() function to filter even numbers\n",
    "filtered_numbers = list(filter(is_even, numbers))\n",
    "\n",
    "# Print the filtered result\n",
    "print(\"Even numbers:\", filtered_numbers)\n"
   ]
  },
  {
   "cell_type": "markdown",
   "id": "c1c2d003",
   "metadata": {},
   "source": [
    "# 24. Write a Python program to determine if a given number is prime or not using if-else.\n"
   ]
  },
  {
   "cell_type": "code",
   "execution_count": 33,
   "id": "a0ff9245",
   "metadata": {},
   "outputs": [
    {
     "name": "stdout",
     "output_type": "stream",
     "text": [
      "Enter a number: 10\n",
      "10 is not a prime number.\n"
     ]
    }
   ],
   "source": [
    "# Input a number from the user\n",
    "num = int(input(\"Enter a number: \"))\n",
    "\n",
    "# Check if the number is prime\n",
    "if num > 1:\n",
    "    # Iterate from 2 to the square root of the number\n",
    "    is_prime = True\n",
    "    for i in range(2, int(num**0.5) + 1):\n",
    "        if num % i == 0:\n",
    "            is_prime = False\n",
    "            break\n",
    "    \n",
    "    if is_prime:\n",
    "        print(f\"{num} is a prime number.\")\n",
    "    else:\n",
    "        print(f\"{num} is not a prime number.\")\n",
    "else:\n",
    "    print(f\"{num} is not a prime number (prime numbers are greater than 1).\")\n"
   ]
  },
  {
   "cell_type": "markdown",
   "id": "9f1b24d4",
   "metadata": {},
   "source": [
    "# Map :-"
   ]
  },
  {
   "cell_type": "markdown",
   "id": "96423929",
   "metadata": {},
   "source": [
    "# 1. Explain the purpose of the `map()` function in Python and provide an example of how it can be used to apply a function to each element of an iterable.\n"
   ]
  },
  {
   "cell_type": "markdown",
   "id": "ce8c8ae2",
   "metadata": {},
   "source": [
    "The map() function in Python is used to apply a specified function to each element of an iterable \n",
    "(e.g., a list, tuple, or other iterable). It returns a map object (an iterator) that can be converted to other iterable types, \n",
    "such as a list or tuple, to access the results of applying the function to each element.\n",
    "\n",
    "The general syntax of the map() function is as follows:\n",
    "\n",
    "python\n",
    "Copy code\n",
    "map(function, iterable)\n",
    "function: This is the function that you want to apply to each element of the iterable. It can be a built-in function or a \n",
    "custom-defined function.\n",
    "\n",
    "iterable: This is the iterable (e.g., a list) containing the elements on which you want to apply the function.\n",
    "\n",
    "The map() function essentially simplifies the process of applying a function to each element of a collection without the need \n",
    "for explicit loops. It can make your code more concise and readable."
   ]
  },
  {
   "cell_type": "code",
   "execution_count": 34,
   "id": "2cc61ee8",
   "metadata": {},
   "outputs": [
    {
     "name": "stdout",
     "output_type": "stream",
     "text": [
      "[1, 4, 9, 16, 25]\n"
     ]
    }
   ],
   "source": [
    "#Example \n",
    "# Define a function to square a number\n",
    "def square(x):\n",
    "    return x ** 2\n",
    "\n",
    "# Create a list of numbers\n",
    "numbers = [1, 2, 3, 4, 5]\n",
    "\n",
    "# Use map() to square each number in the list\n",
    "squared_numbers = map(square, numbers)\n",
    "\n",
    "# Convert the map object to a list to access the results\n",
    "squared_numbers_list = list(squared_numbers)\n",
    "\n",
    "# Print the squared numbers\n",
    "print(squared_numbers_list)\n"
   ]
  },
  {
   "cell_type": "markdown",
   "id": "cf397333",
   "metadata": {},
   "source": [
    "# 2. Write a Python program that uses the `map()` function to square each element of a list of numbers.\n"
   ]
  },
  {
   "cell_type": "code",
   "execution_count": 35,
   "id": "5b6ab105",
   "metadata": {},
   "outputs": [
    {
     "name": "stdout",
     "output_type": "stream",
     "text": [
      "[1, 4, 9, 16, 25]\n"
     ]
    }
   ],
   "source": [
    "# Define a function to square a number\n",
    "def square(x):\n",
    "    return x ** 2\n",
    "\n",
    "# Create a list of numbers\n",
    "numbers = [1, 2, 3, 4, 5]\n",
    "\n",
    "# Use map() to square each number in the list\n",
    "squared_numbers = list(map(square, numbers))\n",
    "\n",
    "# Print the squared numbers\n",
    "print(squared_numbers)\n"
   ]
  },
  {
   "cell_type": "markdown",
   "id": "866a571d",
   "metadata": {},
   "source": [
    "# 3. How does the `map()` function differ from a list comprehension in Python, and when would you choose one over the other?"
   ]
  },
  {
   "cell_type": "markdown",
   "id": "b747d400",
   "metadata": {},
   "source": [
    "The map() function and list comprehensions in Python both provide ways to transform elements in an iterable, but they have some \n",
    "differences in terms of syntax and usage. The choice between map() and list comprehensions often depends on the specific \n",
    "scenario and readability of the code. Here's how they differ and when you might choose one over the other:\n",
    "\n",
    "1. Syntax:\n",
    "\n",
    "map() is a built-in function that applies a specified function to each element of an iterable. It returns a map object, which \n",
    "can be converted to other iterable types (e.g., a list).\n",
    "\n",
    "List comprehensions are a concise way to create new lists by specifying a transformation for each element of an existing \n",
    "iterable within square brackets.\n",
    "\n",
    "2. Readability:\n",
    "\n",
    "map() is typically used when you want to apply a function to each element of an iterable and the transformation logic is more \n",
    "complex. It can make the code more explicit when dealing with functions as transformations.\n",
    "\n",
    "List comprehensions are known for their readability and brevity. They are often favored when the transformation logic is simple \n",
    "and can be expressed in a single line.\n",
    "\n",
    "3. Function Use:\n",
    "\n",
    "map() requires a function to be applied to each element, which means you need to define a function separately before using map().\n",
    "\n",
    "List comprehensions do not require an explicit function definition. The transformation logic can be expressed inline, making\n",
    "them more concise in some cases.\n",
    "\n",
    "4. Return Type:\n",
    "\n",
    "map() returns a map object (an iterator), so you may need to convert it to a list or another iterable type if you want the \n",
    "final result as a list.\n",
    "\n",
    "List comprehensions directly return a list, so there is no need for an additional conversion.\n",
    "\n",
    "5. Performance:\n",
    "\n",
    "In terms of performance, there may not be a significant difference between map() and list comprehensions for most cases.\n",
    "However, list comprehensions may be slightly faster for simple transformations due to their direct list creation.\n",
    "Here are some guidelines for choosing between map() and list comprehensions:\n",
    "\n",
    "Use map() when:\n",
    "\n",
    "You have a complex or reusable transformation logic defined as a separate function.\n",
    "You want to apply the same function to multiple iterables simultaneously (e.g., with map(func, iterable1, iterable2)).\n",
    "Use list comprehensions when:\n",
    "\n",
    "The transformation logic is simple and can be expressed concisely.\n",
    "You want to create a new list directly without intermediate steps.\n",
    "Code readability and brevity are a priority.\n",
    "In many cases, the choice between map() and list comprehensions comes down to personal preference and the specific requirements \n",
    "of your code. Both are valuable tools for transforming data in Python."
   ]
  },
  {
   "cell_type": "markdown",
   "id": "e2557193",
   "metadata": {},
   "source": [
    "# 4. Create a Python program that uses the `map()` function to convert a list of names to uppercase.\n"
   ]
  },
  {
   "cell_type": "code",
   "execution_count": 36,
   "id": "1a6ce35f",
   "metadata": {},
   "outputs": [
    {
     "name": "stdout",
     "output_type": "stream",
     "text": [
      "['ALICE', 'BOB', 'CHARLIE', 'DAVID']\n"
     ]
    }
   ],
   "source": [
    "# Function to convert a name to uppercase\n",
    "def uppercase_name(name):\n",
    "    return name.upper()\n",
    "\n",
    "# Create a list of names\n",
    "names = [\"Alice\", \"Bob\", \"Charlie\", \"David\"]\n",
    "\n",
    "# Use map() to convert each name to uppercase\n",
    "uppercase_names = list(map(uppercase_name, names))\n",
    "\n",
    "# Print the uppercase names\n",
    "print(uppercase_names)\n"
   ]
  },
  {
   "cell_type": "markdown",
   "id": "9bd6387b",
   "metadata": {},
   "source": [
    "# 5. Write a Python program that uses the `map()` function to calculate the length of each word in a list of strings."
   ]
  },
  {
   "cell_type": "code",
   "execution_count": 37,
   "id": "b148c852",
   "metadata": {},
   "outputs": [
    {
     "name": "stdout",
     "output_type": "stream",
     "text": [
      "[5, 6, 6, 4, 10]\n"
     ]
    }
   ],
   "source": [
    "# Function to calculate the length of a word\n",
    "def word_length(word):\n",
    "    return len(word)\n",
    "\n",
    "# Create a list of strings (words)\n",
    "words = [\"apple\", \"banana\", \"cherry\", \"date\", \"elderberry\"]\n",
    "\n",
    "# Use map() to calculate the length of each word\n",
    "word_lengths = list(map(word_length, words))\n",
    "\n",
    "# Print the word lengths\n",
    "print(word_lengths)\n"
   ]
  },
  {
   "cell_type": "markdown",
   "id": "f84ffc4c",
   "metadata": {},
   "source": [
    "# 6. How can you use the `map()` function to apply a custom function to elements of multiple lists simultaneously in Python?\n"
   ]
  },
  {
   "cell_type": "markdown",
   "id": "914cd322",
   "metadata": {},
   "source": [
    "You can use the map() function to apply a custom function to elements of multiple lists simultaneously in Python by passing \n",
    "multiple iterables (lists) as arguments to the map() function. The custom function should take as many arguments as there are\n",
    "iterables, and the map() function will apply the function to corresponding elements from each iterable. "
   ]
  },
  {
   "cell_type": "code",
   "execution_count": 38,
   "id": "9d24bb9a",
   "metadata": {},
   "outputs": [
    {
     "name": "stdout",
     "output_type": "stream",
     "text": [
      "[12, 15, 18]\n"
     ]
    }
   ],
   "source": [
    "# Here's how you can do it:\n",
    "# Define a custom function that takes multiple arguments\n",
    "def custom_function(x, y, z):\n",
    "    return x + y + z\n",
    "\n",
    "# Create multiple lists\n",
    "list1 = [1, 2, 3]\n",
    "list2 = [4, 5, 6]\n",
    "list3 = [7, 8, 9]\n",
    "\n",
    "# Use map() to apply the custom function to corresponding elements\n",
    "result = list(map(custom_function, list1, list2, list3))\n",
    "\n",
    "# Print the result\n",
    "print(result)\n"
   ]
  },
  {
   "cell_type": "markdown",
   "id": "3c76601c",
   "metadata": {},
   "source": [
    "# 7. Create a Python program that uses `map()` to convert a list of temperatures from Celsius to Fahrenheit"
   ]
  },
  {
   "cell_type": "code",
   "execution_count": 39,
   "id": "c15412fc",
   "metadata": {},
   "outputs": [
    {
     "name": "stdout",
     "output_type": "stream",
     "text": [
      "[32.0, 50.0, 68.0, 86.0, 104.0]\n"
     ]
    }
   ],
   "source": [
    "# Function to convert Celsius to Fahrenheit\n",
    "def celsius_to_fahrenheit(celsius):\n",
    "    fahrenheit = (celsius * 9/5) + 32\n",
    "    return fahrenheit\n",
    "\n",
    "# Create a list of temperatures in Celsius\n",
    "celsius_temperatures = [0, 10, 20, 30, 40]\n",
    "\n",
    "# Use map() to convert temperatures to Fahrenheit\n",
    "fahrenheit_temperatures = list(map(celsius_to_fahrenheit, celsius_temperatures))\n",
    "\n",
    "# Print the Fahrenheit temperatures\n",
    "print(fahrenheit_temperatures)\n"
   ]
  },
  {
   "cell_type": "markdown",
   "id": "6f8f2cda",
   "metadata": {},
   "source": [
    "# 8. Write a Python program that uses the `map()` function to round each element of a list of floating-point numbers to the nearest integer"
   ]
  },
  {
   "cell_type": "code",
   "execution_count": 40,
   "id": "9871301f",
   "metadata": {},
   "outputs": [
    {
     "name": "stdout",
     "output_type": "stream",
     "text": [
      "[3, 3, 2, 5, 1]\n"
     ]
    }
   ],
   "source": [
    "# Create a list of floating-point numbers\n",
    "float_numbers = [3.14159, 2.71828, 1.61803, 4.66920, 0.57721]\n",
    "\n",
    "# Use map() to round each number to the nearest integer\n",
    "rounded_numbers = list(map(round, float_numbers))\n",
    "\n",
    "# Print the rounded numbers\n",
    "print(rounded_numbers)\n"
   ]
  },
  {
   "cell_type": "markdown",
   "id": "bf6dd522",
   "metadata": {},
   "source": [
    "# Reduce :-"
   ]
  },
  {
   "cell_type": "markdown",
   "id": "ecc3297c",
   "metadata": {},
   "source": [
    "# 1. What is the `reduce()` function in Python, and what module should you import to use it? Provide an example of its basic usage"
   ]
  },
  {
   "cell_type": "markdown",
   "id": "45469672",
   "metadata": {},
   "source": [
    "The reduce() function in Python is part of the functools module, and it is used for applying a binary function cumulatively \n",
    "to the items of an iterable, from left to right, reducing the iterable to a single accumulated result. In simpler terms, it\n",
    "repeatedly applies a given function to the elements of an iterable and returns a single aggregated result.\n",
    "\n",
    "Here's the basic syntax of the reduce() function:\n",
    "functools.reduce(function, iterable[, initializer])\n"
   ]
  },
  {
   "cell_type": "code",
   "execution_count": 1,
   "id": "e261e8c3",
   "metadata": {},
   "outputs": [
    {
     "name": "stdout",
     "output_type": "stream",
     "text": [
      "120\n"
     ]
    }
   ],
   "source": [
    "# Here's a basic example of how to use the reduce() function to find the product of all elements in a list:\n",
    "from functools import reduce\n",
    "\n",
    "# Define a list of numbers\n",
    "numbers = [1, 2, 3, 4, 5]\n",
    "\n",
    "# Define a function to calculate the product of two numbers\n",
    "def multiply(x, y):\n",
    "    return x * y\n",
    "\n",
    "# Use reduce() to find the product of all elements in the list\n",
    "result = reduce(multiply, numbers)\n",
    "\n",
    "# Print the result\n",
    "print(result)  # Output: 120 (1 * 2 * 3 * 4 * 5)\n"
   ]
  },
  {
   "cell_type": "markdown",
   "id": "9930e446",
   "metadata": {},
   "source": [
    "# 2. Write a Python program that uses the `reduce()` function to find the product of all elements in a list."
   ]
  },
  {
   "cell_type": "code",
   "execution_count": 2,
   "id": "4d9bbda8",
   "metadata": {},
   "outputs": [
    {
     "name": "stdout",
     "output_type": "stream",
     "text": [
      "The product of all elements in the list is: 120\n"
     ]
    }
   ],
   "source": [
    "from functools import reduce\n",
    "\n",
    "# Define a list of numbers\n",
    "numbers = [1, 2, 3, 4, 5]\n",
    "\n",
    "# Define a function to calculate the product of two numbers\n",
    "def multiply(x, y):\n",
    "    return x * y\n",
    "\n",
    "# Use reduce() to find the product of all elements in the list\n",
    "result = reduce(multiply, numbers)\n",
    "\n",
    "# Print the result\n",
    "print(\"The product of all elements in the list is:\", result)\n"
   ]
  },
  {
   "cell_type": "markdown",
   "id": "67a0ef4e",
   "metadata": {},
   "source": [
    "# 3. Create a Python program that uses `reduce()` to find the maximum element in a list of numbers.\n"
   ]
  },
  {
   "cell_type": "code",
   "execution_count": 3,
   "id": "00d1fe2f",
   "metadata": {},
   "outputs": [
    {
     "name": "stdout",
     "output_type": "stream",
     "text": [
      "The maximum element in the list is: 67\n"
     ]
    }
   ],
   "source": [
    "from functools import reduce\n",
    "\n",
    "# Define a list of numbers\n",
    "numbers = [12, 45, 67, 23, 9, 56, 31]\n",
    "\n",
    "# Define a function to find the maximum of two numbers\n",
    "def find_max(x, y):\n",
    "    return x if x > y else y\n",
    "\n",
    "# Use reduce() to find the maximum element in the list\n",
    "max_number = reduce(find_max, numbers)\n",
    "\n",
    "# Print the maximum number\n",
    "print(\"The maximum element in the list is:\", max_number)\n"
   ]
  },
  {
   "cell_type": "markdown",
   "id": "f2f420c1",
   "metadata": {},
   "source": [
    "# 4. How can you use the `reduce()` function to concatenate a list of strings into a single string?\n"
   ]
  },
  {
   "cell_type": "code",
   "execution_count": 4,
   "id": "e3a30e68",
   "metadata": {},
   "outputs": [
    {
     "name": "stdout",
     "output_type": "stream",
     "text": [
      "Concatenated string: Hello, world!\n"
     ]
    }
   ],
   "source": [
    "from functools import reduce\n",
    "\n",
    "# Define a list of strings\n",
    "strings = [\"Hello\", \", \", \"world\", \"!\"]\n",
    "\n",
    "# Define a function to concatenate two strings\n",
    "def concatenate_strings(x, y):\n",
    "    return x + y\n",
    "\n",
    "# Use reduce() to concatenate all strings in the list into a single string\n",
    "result = reduce(concatenate_strings, strings)\n",
    "\n",
    "# Print the concatenated string\n",
    "print(\"Concatenated string:\", result)\n"
   ]
  },
  {
   "cell_type": "markdown",
   "id": "8a1ee479",
   "metadata": {},
   "source": [
    "# 5. Write a Python program that calculates the factorial of a number using the `reduce()` function.\n"
   ]
  },
  {
   "cell_type": "code",
   "execution_count": 5,
   "id": "83a5bd5c",
   "metadata": {},
   "outputs": [
    {
     "name": "stdout",
     "output_type": "stream",
     "text": [
      "Enter a number to calculate its factorial: 5\n",
      "The factorial of 5 is 120\n"
     ]
    }
   ],
   "source": [
    "from functools import reduce\n",
    "\n",
    "# Define a function to calculate the factorial of a number\n",
    "def factorial(n):\n",
    "    if n == 0:\n",
    "        return 1\n",
    "    else:\n",
    "        return reduce(lambda x, y: x * y, range(1, n + 1))\n",
    "\n",
    "# Input: Get the number from the user\n",
    "num = int(input(\"Enter a number to calculate its factorial: \"))\n",
    "\n",
    "# Check if the number is non-negative\n",
    "if num < 0:\n",
    "    print(\"Factorial is not defined for negative numbers.\")\n",
    "else:\n",
    "    # Calculate the factorial using the factorial() function\n",
    "    result = factorial(num)\n",
    "    print(f\"The factorial of {num} is {result}\")\n"
   ]
  },
  {
   "cell_type": "markdown",
   "id": "c390a627",
   "metadata": {},
   "source": [
    "# 6. Create a Python program that uses `reduce()` to find the GCD (Greatest Common Divisor) of a list of numbers.\n"
   ]
  },
  {
   "cell_type": "code",
   "execution_count": 6,
   "id": "231f2d91",
   "metadata": {},
   "outputs": [
    {
     "name": "stdout",
     "output_type": "stream",
     "text": [
      "The GCD of the list is: 12\n"
     ]
    }
   ],
   "source": [
    "from functools import reduce\n",
    "import math\n",
    "\n",
    "# Define a list of numbers\n",
    "numbers = [24, 36, 48, 60]\n",
    "\n",
    "# Define a function to find the GCD of two numbers\n",
    "def find_gcd(x, y):\n",
    "    return math.gcd(x, y)\n",
    "\n",
    "# Use reduce() to find the GCD of all numbers in the list\n",
    "gcd_result = reduce(find_gcd, numbers)\n",
    "\n",
    "# Print the GCD\n",
    "print(\"The GCD of the list is:\", gcd_result)\n"
   ]
  },
  {
   "cell_type": "markdown",
   "id": "a7e3edf2",
   "metadata": {},
   "source": [
    "# 7. Write a Python program that uses the `reduce()` function to find the sum of the digits of a given number"
   ]
  },
  {
   "cell_type": "code",
   "execution_count": 8,
   "id": "89bf2183",
   "metadata": {},
   "outputs": [
    {
     "name": "stdout",
     "output_type": "stream",
     "text": [
      "Enter a number: 120\n",
      "The sum of the digits in 120 is 3\n"
     ]
    }
   ],
   "source": [
    "from functools import reduce\n",
    "\n",
    "# Define a function to sum the digits of two numbers\n",
    "def sum_digits(x, y):\n",
    "    return int(x) + int(y)\n",
    "\n",
    "# Input: Get the number from the user\n",
    "num = int(input(\"Enter a number: \"))\n",
    "\n",
    "# Convert the number to a string to iterate over its digits\n",
    "num_str = str(num)\n",
    "\n",
    "# Use reduce() to find the sum of the digits\n",
    "digit_sum = reduce(sum_digits, num_str)\n",
    "\n",
    "# Print the sum of the digits\n",
    "print(f\"The sum of the digits in {num} is {digit_sum}\")\n"
   ]
  },
  {
   "cell_type": "markdown",
   "id": "e09d1410",
   "metadata": {},
   "source": [
    "# Filter :-\n"
   ]
  },
  {
   "cell_type": "markdown",
   "id": "e4aa5cc3",
   "metadata": {},
   "source": [
    "# 1. Explain the purpose of the `filter()` function in Python and provide an example of how it can be used to filter elements from an iterable.\n"
   ]
  },
  {
   "cell_type": "markdown",
   "id": "2426a9ef",
   "metadata": {},
   "source": [
    "The filter() function in Python is used to filter elements from an iterable (e.g., a list, tuple, or other iterable objects) \n",
    "based on a specified function (a predicate). It creates a new iterable containing only the elements for which the given function\n",
    "returns True. In other words, it allows you to selectively include or exclude elements from an iterable based on a certain \n",
    "condition.\n",
    "\n",
    "The basic syntax of the filter() function is as follows:\n",
    "filter(function, iterable)\n",
    "\n",
    "    "
   ]
  },
  {
   "cell_type": "code",
   "execution_count": 9,
   "id": "11b58dbb",
   "metadata": {},
   "outputs": [
    {
     "name": "stdout",
     "output_type": "stream",
     "text": [
      "Even numbers: [2, 4, 6, 8, 10]\n"
     ]
    }
   ],
   "source": [
    "# Here's an example of how you can use the filter() function to filter even numbers from a list:\n",
    "# Define a list of numbers\n",
    "numbers = [1, 2, 3, 4, 5, 6, 7, 8, 9, 10]\n",
    "\n",
    "# Define a function to filter even numbers\n",
    "def is_even(num):\n",
    "    return num % 2 == 0\n",
    "\n",
    "# Use filter() to filter even numbers from the list\n",
    "even_numbers = filter(is_even, numbers)\n",
    "\n",
    "# Convert the result to a list (filter() returns an iterator in Python 3)\n",
    "even_numbers_list = list(even_numbers)\n",
    "\n",
    "# Print the filtered even numbers\n",
    "print(\"Even numbers:\", even_numbers_list)\n"
   ]
  },
  {
   "cell_type": "markdown",
   "id": "8057f9a4",
   "metadata": {},
   "source": [
    "# 2. Write a Python program that uses the `filter()` function to select even numbers from a list of integers.\n"
   ]
  },
  {
   "cell_type": "code",
   "execution_count": 10,
   "id": "f2be9f23",
   "metadata": {},
   "outputs": [
    {
     "name": "stdout",
     "output_type": "stream",
     "text": [
      "Even numbers: [2, 4, 6, 8, 10]\n"
     ]
    }
   ],
   "source": [
    "# Define a list of integers\n",
    "numbers = [1, 2, 3, 4, 5, 6, 7, 8, 9, 10]\n",
    "\n",
    "# Define a function to check if a number is even\n",
    "def is_even(num):\n",
    "    return num % 2 == 0\n",
    "\n",
    "# Use filter() to select even numbers from the list\n",
    "even_numbers = filter(is_even, numbers)\n",
    "\n",
    "# Convert the result to a list (filter() returns an iterator in Python 3)\n",
    "even_numbers_list = list(even_numbers)\n",
    "\n",
    "# Print the selected even numbers\n",
    "print(\"Even numbers:\", even_numbers_list)\n"
   ]
  },
  {
   "cell_type": "markdown",
   "id": "2e9a1c9f",
   "metadata": {},
   "source": [
    "# 3. Create a Python program that uses the `filter()` function to select names that start with a specific letter from a list of strings.\n"
   ]
  },
  {
   "cell_type": "code",
   "execution_count": 11,
   "id": "bef5cca6",
   "metadata": {},
   "outputs": [
    {
     "name": "stdout",
     "output_type": "stream",
     "text": [
      "Names that start with 'C': ['Charlie']\n"
     ]
    }
   ],
   "source": [
    "# Define a list of names\n",
    "names = [\"Alice\", \"Bob\", \"Charlie\", \"David\", \"Eve\", \"Frank\"]\n",
    "\n",
    "# Define the specific letter you want to filter by\n",
    "start_letter = \"C\"\n",
    "\n",
    "# Define a function to check if a name starts with the specified letter\n",
    "def starts_with_letter(name):\n",
    "    return name.startswith(start_letter)\n",
    "\n",
    "# Use filter() to select names that start with the specified letter\n",
    "filtered_names = filter(starts_with_letter, names)\n",
    "\n",
    "# Convert the result to a list (filter() returns an iterator in Python 3)\n",
    "filtered_names_list = list(filtered_names)\n",
    "\n",
    "# Print the selected names\n",
    "print(f\"Names that start with '{start_letter}':\", filtered_names_list)\n"
   ]
  },
  {
   "cell_type": "markdown",
   "id": "61bcbd4d",
   "metadata": {},
   "source": [
    "# 4. Write a Python program that uses the `filter()` function to select prime numbers from a list of integers."
   ]
  },
  {
   "cell_type": "code",
   "execution_count": 12,
   "id": "2bdb2834",
   "metadata": {},
   "outputs": [
    {
     "name": "stdout",
     "output_type": "stream",
     "text": [
      "Prime numbers: [2, 3, 5, 7, 11, 13, 17, 19]\n"
     ]
    }
   ],
   "source": [
    "# Define a list of integers\n",
    "numbers = [2, 3, 5, 7, 8, 11, 13, 15, 17, 19, 20]\n",
    "\n",
    "# Define a function to check if a number is prime\n",
    "def is_prime(num):\n",
    "    if num <= 1:\n",
    "        return False\n",
    "    elif num <= 3:\n",
    "        return True\n",
    "    elif num % 2 == 0 or num % 3 == 0:\n",
    "        return False\n",
    "    i = 5\n",
    "    while i * i <= num:\n",
    "        if num % i == 0 or num % (i + 2) == 0:\n",
    "            return False\n",
    "        i += 6\n",
    "    return True\n",
    "\n",
    "# Use filter() to select prime numbers from the list\n",
    "prime_numbers = filter(is_prime, numbers)\n",
    "\n",
    "# Convert the result to a list (filter() returns an iterator in Python 3)\n",
    "prime_numbers_list = list(prime_numbers)\n",
    "\n",
    "# Print the selected prime numbers\n",
    "print(\"Prime numbers:\", prime_numbers_list)\n"
   ]
  },
  {
   "cell_type": "markdown",
   "id": "c6957124",
   "metadata": {},
   "source": [
    "# 5. How can you use the `filter()` function to remove None values from a list in Python?\n"
   ]
  },
  {
   "cell_type": "code",
   "execution_count": 13,
   "id": "ddcbd26e",
   "metadata": {},
   "outputs": [
    {
     "name": "stdout",
     "output_type": "stream",
     "text": [
      "List with None values removed: [1, 2, 4, 6, 7, 9]\n"
     ]
    }
   ],
   "source": [
    "# Define a list with some None values\n",
    "values = [1, 2, None, 4, None, 6, 7, None, 9]\n",
    "\n",
    "# Define a function to filter out None values\n",
    "def remove_none(value):\n",
    "    return value is not None\n",
    "\n",
    "# Use filter() to remove None values from the list\n",
    "filtered_values = filter(remove_none, values)\n",
    "\n",
    "# Convert the result to a list (filter() returns an iterator in Python 3)\n",
    "filtered_values_list = list(filtered_values)\n",
    "\n",
    "# Print the list with None values removed\n",
    "print(\"List with None values removed:\", filtered_values_list)\n"
   ]
  },
  {
   "cell_type": "markdown",
   "id": "c1eedd1a",
   "metadata": {},
   "source": [
    "# 6. Create a Python program that uses `filter()` to select words longer than a certain length from a list of strings."
   ]
  },
  {
   "cell_type": "code",
   "execution_count": 14,
   "id": "b37745b4",
   "metadata": {},
   "outputs": [
    {
     "name": "stdout",
     "output_type": "stream",
     "text": [
      "Words longer than 5 characters: ['banana', 'cherry']\n"
     ]
    }
   ],
   "source": [
    "# Define a list of strings\n",
    "words = [\"apple\", \"banana\", \"cherry\", \"date\", \"fig\", \"grape\", \"kiwi\", \"lemon\"]\n",
    "\n",
    "# Define the minimum length for words to be selected\n",
    "min_length = 5\n",
    "\n",
    "# Define a function to filter words longer than the specified length\n",
    "def is_long_word(word):\n",
    "    return len(word) > min_length\n",
    "\n",
    "# Use filter() to select words longer than the specified length from the list\n",
    "long_words = filter(is_long_word, words)\n",
    "\n",
    "# Convert the result to a list (filter() returns an iterator in Python 3)\n",
    "long_words_list = list(long_words)\n",
    "\n",
    "# Print the selected long words\n",
    "print(f\"Words longer than {min_length} characters:\", long_words_list)\n"
   ]
  },
  {
   "cell_type": "markdown",
   "id": "3640ce4b",
   "metadata": {},
   "source": [
    "# 7. Write a Python program that uses the `filter()` function to select elements greater than a specified threshold from a list of values."
   ]
  },
  {
   "cell_type": "code",
   "execution_count": 15,
   "id": "e05fdf8e",
   "metadata": {},
   "outputs": [
    {
     "name": "stdout",
     "output_type": "stream",
     "text": [
      "Values greater than 20: [25, 30, 40]\n"
     ]
    }
   ],
   "source": [
    "# Define a list of values\n",
    "values = [10, 25, 5, 30, 15, 40, 20]\n",
    "\n",
    "# Define the threshold value\n",
    "threshold = 20\n",
    "\n",
    "# Define a function to filter elements greater than the threshold\n",
    "def is_greater_than_threshold(value):\n",
    "    return value > threshold\n",
    "\n",
    "# Use filter() to select elements greater than the threshold from the list\n",
    "selected_values = filter(is_greater_than_threshold, values)\n",
    "\n",
    "# Convert the result to a list (filter() returns an iterator in Python 3)\n",
    "selected_values_list = list(selected_values)\n",
    "\n",
    "# Print the selected values\n",
    "print(f\"Values greater than {threshold}:\", selected_values_list)\n"
   ]
  },
  {
   "cell_type": "markdown",
   "id": "f22ba7ef",
   "metadata": {},
   "source": [
    "# Recursion:-\n"
   ]
  },
  {
   "cell_type": "markdown",
   "id": "4288501e",
   "metadata": {},
   "source": [
    "# 1. Explain the concept of recursion in Python. How does it differ from iteration?\n"
   ]
  },
  {
   "cell_type": "markdown",
   "id": "bcbad81d",
   "metadata": {},
   "source": [
    "Recursion and iteration are both techniques used in programming to control the flow of a program, but they differ in their \n",
    "approach and implementation:\n",
    "\n",
    "Recursion:-\n",
    "Recursion is a programming technique where a function calls itself in order to solve a problem. In other words, a recursive \n",
    "function is a function that performs a task in part and delegates the remaining task to itself. Each recursive call reduces the \n",
    "original problem into subproblems until a base case is reached, at which point the recursion stops. Recursion is particularly \n",
    "useful for solving problems that can be broken down into smaller, similar subproblems, such as factorial calculations, \n",
    "Fibonacci sequences, and tree traversal.\n",
    "\n",
    "Here's a basic structure of a recursive function:"
   ]
  },
  {
   "cell_type": "code",
   "execution_count": 17,
   "id": "209dfada",
   "metadata": {},
   "outputs": [],
   "source": [
    "def recursive_function(parameters):\n",
    "    if base_case_condition:\n",
    "        return base_case_value\n",
    "    else:\n",
    "        # Recursive call(s)\n",
    "        return recursive_function(modified_parameters)\n"
   ]
  },
  {
   "cell_type": "markdown",
   "id": "00e1a1ac",
   "metadata": {},
   "source": [
    "Iteration :-\n",
    "Iteration, on the other hand, is a control flow mechanism that uses loops (e.g., for or while loops) to repeatedly execute a \n",
    "block of code until a specified condition is met. It involves using a loop variable to keep track of the state and perform a \n",
    "task repeatedly based on certain conditions. Iteration is typically used for tasks that involve repetition, like traversing\n",
    "elements in a list, summing numbers, or processing data in a structured manner.\n",
    "\n",
    "Here's a basic structure of an iterative loop:"
   ]
  },
  {
   "cell_type": "code",
   "execution_count": 18,
   "id": "ac685a2f",
   "metadata": {},
   "outputs": [
    {
     "ename": "SyntaxError",
     "evalue": "incomplete input (3881611218.py, line 2)",
     "output_type": "error",
     "traceback": [
      "\u001b[1;36m  Cell \u001b[1;32mIn[18], line 2\u001b[1;36m\u001b[0m\n\u001b[1;33m    # Code to be executed repeatedly\u001b[0m\n\u001b[1;37m                                    ^\u001b[0m\n\u001b[1;31mSyntaxError\u001b[0m\u001b[1;31m:\u001b[0m incomplete input\n"
     ]
    }
   ],
   "source": [
    "for variable in iterable:\n",
    "    # Code to be executed repeatedly\n"
   ]
  },
  {
   "cell_type": "markdown",
   "id": "1c5d0a3b",
   "metadata": {},
   "source": [
    "Key Differences:\n",
    "\n",
    "Termination Condition:\n",
    "\n",
    "Recursion: Recursive functions must have one or more base cases that provide termination conditions to prevent infinite \n",
    "    recursion.\n",
    "Iteration: Iterative loops rely on the loop control condition to terminate the loop when a specific condition is met.\n",
    "Flow Control:\n",
    "\n",
    "Recursion: Recursion relies on function calls, creating a new frame on the call stack for each recursive call.\n",
    "Iteration: Iteration involves executing code within the same frame, without creating new function calls.\n",
    "Memory Usage:\n",
    "\n",
    "Recursion: Recursion can consume more memory due to the call stack, especially for deep or unoptimized recursive calls.\n",
    "Iteration: Iteration typically uses less memory since it doesn't involve creating new function call frames.\n",
    "Readability and Complexity:\n",
    "\n",
    "Recursion: Recursive solutions can be more elegant for certain problems and mimic the problem's natural structure. However, \n",
    "they may be harder to understand for some programmers.\n",
    "Iteration: Iterative solutions are often more straightforward and easier to read, making them a better choice for simple tasks.\n",
    "In summary, recursion and iteration are two different approaches for solving problems in programming. Recursion is used when a \n",
    "problem can be broken down into smaller, similar subproblems, while iteration is used for repetitive tasks or when a problem \n",
    "can be solved more efficiently without function calls. The choice between recursion and iteration depends on the specific \n",
    "problem and the trade-offs between code elegance and performance."
   ]
  },
  {
   "cell_type": "markdown",
   "id": "9ce05708",
   "metadata": {},
   "source": [
    "# 2. Write a Python program to calculate the factorial of a number using recursion.\n"
   ]
  },
  {
   "cell_type": "code",
   "execution_count": 19,
   "id": "a122a1cd",
   "metadata": {},
   "outputs": [
    {
     "name": "stdout",
     "output_type": "stream",
     "text": [
      "Enter a non-negative integer: 10\n",
      "The factorial of 10 is 3628800\n"
     ]
    }
   ],
   "source": [
    "# Define a recursive function to calculate factorial\n",
    "def factorial(n):\n",
    "    if n == 0:\n",
    "        return 1  # Base case: 0! = 1\n",
    "    else:\n",
    "        return n * factorial(n - 1)\n",
    "\n",
    "# Input: Get the number from the user\n",
    "num = int(input(\"Enter a non-negative integer: \"))\n",
    "\n",
    "# Check if the input is non-negative\n",
    "if num < 0:\n",
    "    print(\"Factorial is not defined for negative numbers.\")\n",
    "else:\n",
    "    # Calculate the factorial using the factorial() function\n",
    "    result = factorial(num)\n",
    "    print(f\"The factorial of {num} is {result}\")\n"
   ]
  },
  {
   "cell_type": "markdown",
   "id": "d43881c9",
   "metadata": {},
   "source": [
    "# 3. Create a recursive Python function to find the nth Fibonacci number.\n"
   ]
  },
  {
   "cell_type": "code",
   "execution_count": 20,
   "id": "419d735e",
   "metadata": {},
   "outputs": [
    {
     "name": "stdout",
     "output_type": "stream",
     "text": [
      "Enter a non-negative integer (n): 15\n",
      "The 15th Fibonacci number is 610\n"
     ]
    }
   ],
   "source": [
    "# Define a recursive function to find the nth Fibonacci number\n",
    "def fibonacci(n):\n",
    "    if n <= 0:\n",
    "        return 0\n",
    "    elif n == 1:\n",
    "        return 1\n",
    "    else:\n",
    "        return fibonacci(n - 1) + fibonacci(n - 2)\n",
    "\n",
    "# Input: Get the value of n from the user\n",
    "n = int(input(\"Enter a non-negative integer (n): \"))\n",
    "\n",
    "# Check if n is non-negative\n",
    "if n < 0:\n",
    "    print(\"Please enter a non-negative integer.\")\n",
    "else:\n",
    "    # Calculate and print the nth Fibonacci number\n",
    "    result = fibonacci(n)\n",
    "    print(f\"The {n}th Fibonacci number is {result}\")\n"
   ]
  },
  {
   "cell_type": "markdown",
   "id": "0f3a025f",
   "metadata": {},
   "source": [
    "# 4. Write a recursive Python function to calculate the sum of all elements in a list.\n"
   ]
  },
  {
   "cell_type": "code",
   "execution_count": 21,
   "id": "c856cf2a",
   "metadata": {},
   "outputs": [
    {
     "name": "stdout",
     "output_type": "stream",
     "text": [
      "Enter a list of numbers separated by spaces: 1 2 3 4 5\n",
      "The sum of the elements in the list is: 15\n"
     ]
    }
   ],
   "source": [
    "# Define a recursive function to calculate the sum of elements in a list\n",
    "def list_sum(lst):\n",
    "    if not lst:\n",
    "        return 0  # Base case: an empty list has a sum of 0\n",
    "    else:\n",
    "        # Recursive case: sum the first element and the sum of the rest of the elements\n",
    "        return lst[0] + list_sum(lst[1:])\n",
    "\n",
    "# Input: Get a list of numbers from the user\n",
    "user_input = input(\"Enter a list of numbers separated by spaces: \")\n",
    "numbers = [int(x) for x in user_input.split()]\n",
    "\n",
    "# Calculate and print the sum of the elements in the list\n",
    "result = list_sum(numbers)\n",
    "print(f\"The sum of the elements in the list is: {result}\")\n"
   ]
  },
  {
   "cell_type": "markdown",
   "id": "223ad4e3",
   "metadata": {},
   "source": [
    "# 5. How can you prevent a recursive function from running indefinitely, causing a stack overflow error?\n"
   ]
  },
  {
   "cell_type": "markdown",
   "id": "dcf39de1",
   "metadata": {},
   "source": [
    "To prevent a recursive function from running indefinitely and causing a stack overflow error, you should implement proper \n",
    "termination conditions (base cases) and ensure that the recursion progresses towards those base cases. Here are some strategies\n",
    "to prevent infinite recursion:\n",
    "\n",
    "Base Cases: Define one or more base cases in your recursive function. Base cases are conditions under which the recursion\n",
    "should stop and return a result. Ensure that every recursive call eventually reaches a base case. For example, in a \n",
    "factorial function, the base case is when the input is 0 or 1.\n",
    "\n",
    "Decreasing Inputs: Make sure that the inputs to the recursive function are moving closer to the base cases with each recursive \n",
    "call. In other words, ensure that the recursive function is making progress towards termination. For example, in a recursive function to find the nth Fibonacci number, each recursive call reduces n by 1 or 2, eventually reaching 0 or 1.\n",
    "\n",
    "Testing: During development, thoroughly test your recursive function with different inputs, including edge cases and large \n",
    "inputs, to ensure it behaves as expected and terminates correctly.\n",
    "\n",
    "Debugging: If you suspect that your recursive function is running indefinitely, you can use debugging techniques, such as \n",
    "printing debug statements, to trace the execution and identify the issue.\n",
    "\n",
    "Iteration as an Alternative: In some cases, you can use iteration instead of recursion to achieve the same result. Iterative \n",
    "solutions often have less risk of causing stack overflow errors, but they may be less elegant for certain problems.\n",
    "\n",
    "Here's an example of a recursive function that calculates the factorial of a number with proper base cases to prevent infinite \n",
    "recursion:"
   ]
  },
  {
   "cell_type": "code",
   "execution_count": 22,
   "id": "b1a092ac",
   "metadata": {},
   "outputs": [],
   "source": [
    "def factorial(n):\n",
    "    if n < 0:\n",
    "        raise ValueError(\"Factorial is not defined for negative numbers.\")\n",
    "    elif n == 0:\n",
    "        return 1  # Base case: 0! = 1\n",
    "    else:\n",
    "        return n * factorial(n - 1)\n"
   ]
  },
  {
   "cell_type": "code",
   "execution_count": 23,
   "id": "f88edd57",
   "metadata": {},
   "outputs": [
    {
     "data": {
      "text/plain": [
       "15"
      ]
     },
     "execution_count": 23,
     "metadata": {},
     "output_type": "execute_result"
    }
   ],
   "source": [
    "n"
   ]
  },
  {
   "cell_type": "markdown",
   "id": "e5fa0d94",
   "metadata": {},
   "source": [
    "# 6. Create a recursive Python function to find the greatest common divisor (GCD) of two numbers using the Euclidean algorithm"
   ]
  },
  {
   "cell_type": "code",
   "execution_count": 24,
   "id": "eb732741",
   "metadata": {},
   "outputs": [
    {
     "name": "stdout",
     "output_type": "stream",
     "text": [
      "Enter the first number: 10\n",
      "Enter the second number: 20\n",
      "The GCD of 10 and 20 is 10\n"
     ]
    }
   ],
   "source": [
    "def gcd_euclidean(a, b):\n",
    "    if b == 0:\n",
    "        return a  # The GCD is found when the second number becomes 0\n",
    "    else:\n",
    "        # Recursive case: Calculate GCD by calling the function with updated values\n",
    "        return gcd_euclidean(b, a % b)\n",
    "\n",
    "# Input: Get two numbers from the user\n",
    "num1 = int(input(\"Enter the first number: \"))\n",
    "num2 = int(input(\"Enter the second number: \"))\n",
    "\n",
    "# Calculate and print the GCD using the gcd_euclidean() function\n",
    "result = gcd_euclidean(num1, num2)\n",
    "print(f\"The GCD of {num1} and {num2} is {result}\")\n"
   ]
  },
  {
   "cell_type": "markdown",
   "id": "ef88d87b",
   "metadata": {},
   "source": [
    "# 7. Write a recursive Python function to reverse a string.\n"
   ]
  },
  {
   "cell_type": "code",
   "execution_count": 25,
   "id": "68cb4ece",
   "metadata": {},
   "outputs": [
    {
     "name": "stdout",
     "output_type": "stream",
     "text": [
      "Enter a string: mayur\n",
      "The reversed string is: ruyam\n"
     ]
    }
   ],
   "source": [
    "def reverse_string(input_str):\n",
    "    # Base case: If the string is empty or has only one character, return it as is\n",
    "    if len(input_str) <= 1:\n",
    "        return input_str\n",
    "    else:\n",
    "        # Recursive case: Reverse the substring excluding the first character\n",
    "        # and concatenate it with the first character\n",
    "        return reverse_string(input_str[1:]) + input_str[0]\n",
    "\n",
    "# Input: Get a string from the user\n",
    "user_input = input(\"Enter a string: \")\n",
    "\n",
    "# Call the reverse_string() function and print the reversed string\n",
    "reversed_str = reverse_string(user_input)\n",
    "print(f\"The reversed string is: {reversed_str}\")\n"
   ]
  },
  {
   "cell_type": "markdown",
   "id": "771d7093",
   "metadata": {},
   "source": [
    "# 8. Create a recursive Python function to calculate the power of a number (x^n).\n"
   ]
  },
  {
   "cell_type": "code",
   "execution_count": 26,
   "id": "acb2ccf3",
   "metadata": {},
   "outputs": [
    {
     "name": "stdout",
     "output_type": "stream",
     "text": [
      "Enter the base (x): 10\n",
      "Enter the exponent (n): 2\n",
      "10.0^2 is equal to 100.0\n"
     ]
    }
   ],
   "source": [
    "def power(x, n):\n",
    "    # Base case: If n is 0, x^n is 1\n",
    "    if n == 0:\n",
    "        return 1\n",
    "    # Recursive case: Calculate x^n by dividing the problem into smaller subproblems\n",
    "    elif n > 0:\n",
    "        return x * power(x, n - 1)\n",
    "    # Handle negative exponents by taking the reciprocal\n",
    "    else:\n",
    "        return 1 / (x * power(x, -n - 1))\n",
    "\n",
    "# Input: Get the base (x) and exponent (n) from the user\n",
    "x = float(input(\"Enter the base (x): \"))\n",
    "n = int(input(\"Enter the exponent (n): \"))\n",
    "\n",
    "# Calculate and print x^n using the power() function\n",
    "result = power(x, n)\n",
    "print(f\"{x}^{n} is equal to {result}\")\n"
   ]
  },
  {
   "cell_type": "markdown",
   "id": "4232adb7",
   "metadata": {},
   "source": [
    "# 9. Write a recursive Python function to find all permutations of a given string.\n"
   ]
  },
  {
   "cell_type": "code",
   "execution_count": 27,
   "id": "6cf34606",
   "metadata": {},
   "outputs": [
    {
     "name": "stdout",
     "output_type": "stream",
     "text": [
      "Enter a string: mayur\n",
      "All permutations of the string:\n",
      "mayur\n",
      "mayru\n",
      "mauyr\n",
      "maury\n",
      "maryu\n",
      "maruy\n",
      "myaur\n",
      "myaru\n",
      "myuar\n",
      "myura\n",
      "myrau\n",
      "myrua\n",
      "muayr\n",
      "muary\n",
      "muyar\n",
      "muyra\n",
      "muray\n",
      "murya\n",
      "mrayu\n",
      "mrauy\n",
      "mryau\n",
      "mryua\n",
      "mruay\n",
      "mruya\n",
      "amyur\n",
      "amyru\n",
      "amuyr\n",
      "amury\n",
      "amryu\n",
      "amruy\n",
      "aymur\n",
      "aymru\n",
      "ayumr\n",
      "ayurm\n",
      "ayrmu\n",
      "ayrum\n",
      "aumyr\n",
      "aumry\n",
      "auymr\n",
      "auyrm\n",
      "aurmy\n",
      "aurym\n",
      "armyu\n",
      "armuy\n",
      "arymu\n",
      "aryum\n",
      "arumy\n",
      "aruym\n",
      "ymaur\n",
      "ymaru\n",
      "ymuar\n",
      "ymura\n",
      "ymrau\n",
      "ymrua\n",
      "yamur\n",
      "yamru\n",
      "yaumr\n",
      "yaurm\n",
      "yarmu\n",
      "yarum\n",
      "yumar\n",
      "yumra\n",
      "yuamr\n",
      "yuarm\n",
      "yurma\n",
      "yuram\n",
      "yrmau\n",
      "yrmua\n",
      "yramu\n",
      "yraum\n",
      "yruma\n",
      "yruam\n",
      "umayr\n",
      "umary\n",
      "umyar\n",
      "umyra\n",
      "umray\n",
      "umrya\n",
      "uamyr\n",
      "uamry\n",
      "uaymr\n",
      "uayrm\n",
      "uarmy\n",
      "uarym\n",
      "uymar\n",
      "uymra\n",
      "uyamr\n",
      "uyarm\n",
      "uyrma\n",
      "uyram\n",
      "urmay\n",
      "urmya\n",
      "uramy\n",
      "uraym\n",
      "uryma\n",
      "uryam\n",
      "rmayu\n",
      "rmauy\n",
      "rmyau\n",
      "rmyua\n",
      "rmuay\n",
      "rmuya\n",
      "ramyu\n",
      "ramuy\n",
      "raymu\n",
      "rayum\n",
      "raumy\n",
      "rauym\n",
      "rymau\n",
      "rymua\n",
      "ryamu\n",
      "ryaum\n",
      "ryuma\n",
      "ryuam\n",
      "rumay\n",
      "rumya\n",
      "ruamy\n",
      "ruaym\n",
      "ruyma\n",
      "ruyam\n"
     ]
    }
   ],
   "source": [
    "def find_permutations(input_str):\n",
    "    # Base case: If the string has only one character or is empty, return it as a single permutation\n",
    "    if len(input_str) <= 1:\n",
    "        return [input_str]\n",
    "\n",
    "    # List to store permutations\n",
    "    permutations = []\n",
    "\n",
    "    # Iterate through each character in the string\n",
    "    for i in range(len(input_str)):\n",
    "        # Fix the first character and recursively find permutations of the remaining characters\n",
    "        fixed_char = input_str[i]\n",
    "        remaining_chars = input_str[:i] + input_str[i + 1:]\n",
    "        partial_permutations = find_permutations(remaining_chars)\n",
    "\n",
    "        # Combine the fixed character with partial permutations\n",
    "        for perm in partial_permutations:\n",
    "            permutations.append(fixed_char + perm)\n",
    "\n",
    "    return permutations\n",
    "\n",
    "# Input: Get a string from the user\n",
    "user_input = input(\"Enter a string: \")\n",
    "\n",
    "# Find and print all permutations of the string using the find_permutations() function\n",
    "permutations = find_permutations(user_input)\n",
    "print(\"All permutations of the string:\")\n",
    "for perm in permutations:\n",
    "    print(perm)\n"
   ]
  },
  {
   "cell_type": "markdown",
   "id": "cb6369e8",
   "metadata": {},
   "source": [
    "# 10. Write a recursive Python function to check if a string is a palindrome.\n"
   ]
  },
  {
   "cell_type": "code",
   "execution_count": 28,
   "id": "1fe2bd5d",
   "metadata": {},
   "outputs": [
    {
     "name": "stdout",
     "output_type": "stream",
     "text": [
      "Enter a string: madam\n",
      "The string is a palindrome.\n"
     ]
    }
   ],
   "source": [
    "def is_palindrome(input_str):\n",
    "    # Base case: If the string is empty or has only one character, it is a palindrome\n",
    "    if len(input_str) <= 1:\n",
    "        return True\n",
    "    \n",
    "    # Compare the first and last characters\n",
    "    if input_str[0] == input_str[-1]:\n",
    "        # Recursive case: Check if the substring without the first and last characters is a palindrome\n",
    "        return is_palindrome(input_str[1:-1])\n",
    "    else:\n",
    "        return False\n",
    "\n",
    "# Input: Get a string from the user\n",
    "user_input = input(\"Enter a string: \")\n",
    "\n",
    "# Check if the string is a palindrome using the is_palindrome() function\n",
    "if is_palindrome(user_input):\n",
    "    print(\"The string is a palindrome.\")\n",
    "else:\n",
    "    print(\"The string is not a palindrome.\")\n"
   ]
  },
  {
   "cell_type": "markdown",
   "id": "6b34945c",
   "metadata": {},
   "source": [
    "# 11. Create a recursive Python function to generate all possible combinations of a list of elements.\n"
   ]
  },
  {
   "cell_type": "code",
   "execution_count": 29,
   "id": "2e93dbe1",
   "metadata": {},
   "outputs": [
    {
     "name": "stdout",
     "output_type": "stream",
     "text": [
      "Enter a list of elements separated by spaces: 1 2 3 4 5\n",
      "Enter the combination size (k): 5\n",
      "All possible combinations:\n",
      "['1', '2', '3', '4', '5']\n"
     ]
    }
   ],
   "source": [
    "def generate_combinations(elements, k):\n",
    "    if k == 0:\n",
    "        return [[]]  # Base case: return an empty list as one of the combinations\n",
    "    if not elements:\n",
    "        return []  # Base case: if elements is empty, return an empty list\n",
    "\n",
    "    first_element = elements[0]\n",
    "    rest_of_elements = elements[1:]\n",
    "\n",
    "    # Recursively generate combinations without the first element\n",
    "    without_first = generate_combinations(rest_of_elements, k)\n",
    "\n",
    "    # Recursively generate combinations with the first element\n",
    "    with_first = generate_combinations(rest_of_elements, k - 1)\n",
    "    with_first = [[first_element] + combo for combo in with_first]\n",
    "\n",
    "    # Combine the combinations with and without the first element\n",
    "    return with_first + without_first\n",
    "\n",
    "# Input: Get a list of elements and the combination size (k) from the user\n",
    "elements = input(\"Enter a list of elements separated by spaces: \").split()\n",
    "k = int(input(\"Enter the combination size (k): \"))\n",
    "\n",
    "# Call the generate_combinations() function and print the combinations\n",
    "combinations = generate_combinations(elements, k)\n",
    "print(\"All possible combinations:\")\n",
    "for combo in combinations:\n",
    "    print(combo)\n"
   ]
  },
  {
   "cell_type": "markdown",
   "id": "568551c0",
   "metadata": {},
   "source": [
    "# Basics of Functions:\n"
   ]
  },
  {
   "cell_type": "markdown",
   "id": "04f49907",
   "metadata": {},
   "source": [
    "# 1. What is a function in Python, and why is it used?\n"
   ]
  },
  {
   "cell_type": "markdown",
   "id": "4a87d228",
   "metadata": {},
   "source": [
    "In Python, a function is a named block of reusable code that performs a specific task or a set of related tasks. Functions are \n",
    "a fundamental concept in programming and serve several important purposes:\n",
    "\n",
    "Modularity: Functions allow you to break down a complex program into smaller, more manageable pieces. Each function can focus\n",
    "on a specific task, making the code easier to understand and maintain. This promotes code modularity, reusability, and \n",
    "organization.\n",
    "\n",
    "Reusability: Once you define a function, you can call it multiple times from different parts of your program. This reusability \n",
    "reduces code duplication and ensures that you don't have to rewrite the same code over and over again.\n",
    "\n",
    "Abstraction: Functions abstract the underlying implementation details. When you call a function, you don't need to know how it \n",
    "works internally; you only need to know what it does and what arguments it expects. This abstraction simplifies the \n",
    "programming process.\n",
    "\n",
    "Readability: Functions make code more readable by providing meaningful names to specific operations. Well-named functions act as\n",
    "self-documenting code, making it easier for other developers (and your future self) to understand the purpose and \n",
    "functionality of the code.\n",
    "\n",
    "Parameterization: Functions can accept parameters (arguments) that allow you to customize their behavior. By passing different \n",
    "values as arguments, you can use the same function for various scenarios.\n",
    "\n",
    "Code Organization: Functions help organize code into logical units. In larger programs, having well-structured functions makes \n",
    "it easier to navigate and maintain the codebase.\n",
    "\n",
    "Here's a simple example of a Python function:"
   ]
  },
  {
   "cell_type": "code",
   "execution_count": 30,
   "id": "de795054",
   "metadata": {},
   "outputs": [
    {
     "name": "stdout",
     "output_type": "stream",
     "text": [
      "Hello, Alice!\n"
     ]
    }
   ],
   "source": [
    "def greet(name):\n",
    "    \"\"\"This function greets the person passed in as a parameter.\"\"\"\n",
    "    print(f\"Hello, {name}!\")\n",
    "\n",
    "# Calling the function\n",
    "greet(\"Alice\")\n"
   ]
  },
  {
   "cell_type": "markdown",
   "id": "ae0119ea",
   "metadata": {},
   "source": [
    "# 2. How do you define a function in Python? Provide an example.\n"
   ]
  },
  {
   "cell_type": "markdown",
   "id": "70daa904",
   "metadata": {},
   "source": [
    "In Python, you can define a function using the def keyword, followed by the function name, a pair of parentheses (), and a \n",
    "colon : to indicate the start of the function block. Here's the basic syntax for defining a function:"
   ]
  },
  {
   "cell_type": "code",
   "execution_count": 31,
   "id": "5f9b70be",
   "metadata": {},
   "outputs": [],
   "source": [
    "def function_name(parameters):\n",
    "    \"\"\"Docstring\"\"\"\n",
    "    # Function body\n",
    "    # ...\n",
    "    return result  # Optional return statement\n"
   ]
  },
  {
   "cell_type": "markdown",
   "id": "e9b31885",
   "metadata": {},
   "source": [
    "# 3. Explain the difference between a function definition and a function call.\n"
   ]
  },
  {
   "cell_type": "markdown",
   "id": "53d7e85d",
   "metadata": {},
   "source": [
    "In programming, especially in Python, there are two fundamental concepts related to functions: function definition and function \n",
    "    call. These concepts are essential to understand because they represent different aspects of how functions work:\n",
    "\n",
    "Function Definition:\n",
    "\n",
    "Purpose: A function definition is the creation or declaration of a function. It defines what the function does, what parameters \n",
    "it accepts, and how it performs its task.\n",
    "Syntax: A function definition is written using the def keyword, followed by the function name, a pair of parentheses containing\n",
    "zero or more parameters, a colon, and a block of code that defines the function's behavior.\n",
    "Example: Here's an example of a function definition:"
   ]
  },
  {
   "cell_type": "code",
   "execution_count": 32,
   "id": "464f87f3",
   "metadata": {},
   "outputs": [],
   "source": [
    "def greet(name):\n",
    "    \"\"\"This function greets the person passed in as a parameter.\"\"\"\n",
    "    print(f\"Hello, {name}!\")\n"
   ]
  },
  {
   "cell_type": "markdown",
   "id": "c87b82c8",
   "metadata": {},
   "source": [
    "Function Call (Invoking a Function):\n",
    "\n",
    "Purpose: A function call is the execution or invocation of a previously defined function. It uses the function's name and \n",
    "provides the required arguments or parameters to make the function perform its task.\n",
    "Syntax: To call a function, you simply use its name followed by parentheses containing the arguments, if any.\n",
    "Example: Here's an example of a function call:"
   ]
  },
  {
   "cell_type": "code",
   "execution_count": 33,
   "id": "5acf7275",
   "metadata": {},
   "outputs": [
    {
     "name": "stdout",
     "output_type": "stream",
     "text": [
      "Hello, Alice!\n"
     ]
    }
   ],
   "source": [
    "greet(\"Alice\")\n"
   ]
  },
  {
   "cell_type": "markdown",
   "id": "cc2664d4",
   "metadata": {},
   "source": [
    "# 4. Write a Python program that defines a function to calculate the sum of two numbers and then calls the function.\n"
   ]
  },
  {
   "cell_type": "code",
   "execution_count": 34,
   "id": "0502d697",
   "metadata": {},
   "outputs": [
    {
     "name": "stdout",
     "output_type": "stream",
     "text": [
      "Enter the first number: 10\n",
      "Enter the second number: 20\n",
      "The sum of 10.0 and 20.0 is 30.0\n"
     ]
    }
   ],
   "source": [
    "# Define a function to calculate the sum of two numbers\n",
    "def add_numbers(num1, num2):\n",
    "    return num1 + num2\n",
    "\n",
    "# Input: Get two numbers from the user\n",
    "num1 = float(input(\"Enter the first number: \"))\n",
    "num2 = float(input(\"Enter the second number: \"))\n",
    "\n",
    "# Call the add_numbers() function and print the result\n",
    "result = add_numbers(num1, num2)\n",
    "print(f\"The sum of {num1} and {num2} is {result}\")\n"
   ]
  },
  {
   "cell_type": "markdown",
   "id": "fbcb92a6",
   "metadata": {},
   "source": [
    "# 5. What is a function signature, and what information does it typically include?\n"
   ]
  },
  {
   "cell_type": "markdown",
   "id": "58839b54",
   "metadata": {},
   "source": [
    "Defination :- \n",
    "The term \"function signature\" typically refers to a declaration or specification of a function's interface, which includes its \n",
    "name, return type, and parameter types. It provides essential information about a function's structure without detailing its \n",
    "implementation. The function signature is a key part of a function's documentation and serves as a contract between the \n",
    "function and its callers, indicating how the function should be used.\n",
    "\n",
    "\n",
    "It's important to note that in Python, you don't explicitly specify the data types of parameters or the return type in the\n",
    "function signature. Python allows dynamic typing, so you can pass values of any type as arguments to a function, and the \n",
    "function can return values of different types. Here's the Python version of the same function:\n",
    "\n",
    "A function signature often includes the following components:\n",
    "\n",
    "Function Name: The name of the function, which serves as a unique identifier for the function within the program.\n",
    "\n",
    "Return Type: The data type of the value that the function returns upon completion. This specifies the type of result that the function produces when it is called.\n",
    "\n",
    "Parameter Types: The data types of the function's parameters (also known as arguments). It indicates the expected types of values that should be passed to the function when it is called."
   ]
  },
  {
   "cell_type": "markdown",
   "id": "8604ce09",
   "metadata": {},
   "source": [
    "# 6. Create a Python function that takes two arguments and returns their product.\n"
   ]
  },
  {
   "cell_type": "code",
   "execution_count": 35,
   "id": "523466fa",
   "metadata": {},
   "outputs": [
    {
     "name": "stdout",
     "output_type": "stream",
     "text": [
      "The product of 5 and 3 is: 15\n"
     ]
    }
   ],
   "source": [
    "def multiply(x, y):\n",
    "    \"\"\"This function takes two numbers as arguments and returns their product.\"\"\"\n",
    "    return x * y\n",
    "\n",
    "# Example usage:\n",
    "result = multiply(5, 3)\n",
    "print(\"The product of 5 and 3 is:\", result)\n"
   ]
  },
  {
   "cell_type": "markdown",
   "id": "50aff00b",
   "metadata": {},
   "source": [
    "# Function Parameters and Arguments:\n"
   ]
  },
  {
   "cell_type": "markdown",
   "id": "28b2c3b5",
   "metadata": {},
   "source": [
    "# 1. Explain the concepts of formal parameters and actual arguments in Python functions.\n"
   ]
  },
  {
   "cell_type": "markdown",
   "id": "0b961557",
   "metadata": {},
   "source": [
    "In Python functions, the concepts of formal parameters and actual arguments are fundamental and play a crucial role in how \n",
    "functions accept and work with data. These concepts help define the interface between a function and its callers:\n",
    "\n",
    "Formal Parameters:\n",
    "\n",
    "Definition: Formal parameters are placeholders or variables defined within the function's parameter list, and they represent \n",
    "the data that the function expects to receive when it is called.\n",
    "Purpose: Formal parameters define the input or arguments that the function needs to perform its task. They act as local \n",
    "variables within the function's scope, allowing the function to work with the provided data.\n",
    "Declaration: Formal parameters are declared in the function's definition, following the function name within parentheses. They \n",
    "are often accompanied by data types (for documentation purposes), but data types are not strictly required in Python due to \n",
    "dynamic typing.\n",
    "Example:"
   ]
  },
  {
   "cell_type": "code",
   "execution_count": 36,
   "id": "fdc28462",
   "metadata": {},
   "outputs": [],
   "source": [
    "def add(x, y):\n",
    "    \"\"\"Function with formal parameters x and y.\"\"\"\n",
    "    result = x + y\n",
    "    return result\n"
   ]
  },
  {
   "cell_type": "markdown",
   "id": "f88d0017",
   "metadata": {},
   "source": [
    "Actual Arguments (Arguments):\n",
    "\n",
    "Definition: Actual arguments, also known as arguments or actual parameters, are the values or expressions that are passed to a \n",
    "function when it is called. They provide the actual data that the function will work with during its execution.\n",
    "Purpose: Actual arguments supply the necessary data to the function to perform its computations. These values or expressions \n",
    "can be literals, variables, or complex expressions.\n",
    "Usage: When calling a function, you provide the actual arguments as input to the function. These arguments are matched to the \n",
    "formal parameters of the function based on their order (positional arguments) or keyword names (keyword arguments).\n"
   ]
  },
  {
   "cell_type": "code",
   "execution_count": 38,
   "id": "d6133204",
   "metadata": {},
   "outputs": [],
   "source": [
    "# Example:\n",
    "result = add(5, 3)  # Here, 5 and 3 are actual arguments passed to the add function.\n"
   ]
  },
  {
   "cell_type": "markdown",
   "id": "58eb7f3d",
   "metadata": {},
   "source": [
    "# 2. Write a Python program that defines a function with default argument values."
   ]
  },
  {
   "cell_type": "code",
   "execution_count": 39,
   "id": "5b3fc338",
   "metadata": {},
   "outputs": [
    {
     "name": "stdout",
     "output_type": "stream",
     "text": [
      "Hello, Guest!\n",
      "Hello, Alice!\n"
     ]
    }
   ],
   "source": [
    "# Define a function with default argument values\n",
    "def greet(name=\"Guest\"):\n",
    "    \"\"\"This function greets a person using their name.\"\"\"\n",
    "    print(f\"Hello, {name}!\")\n",
    "\n",
    "# Call the function without providing an argument (use the default)\n",
    "greet()\n",
    "\n",
    "# Call the function with an argument to override the default\n",
    "greet(\"Alice\")\n"
   ]
  },
  {
   "cell_type": "markdown",
   "id": "322b94cc",
   "metadata": {},
   "source": [
    "# 3. How do you use keyword arguments in Python function calls? Provide an example.\n"
   ]
  },
  {
   "cell_type": "markdown",
   "id": "a5df707e",
   "metadata": {},
   "source": [
    "In Python, keyword arguments are used in function calls to explicitly specify which argument corresponds to which parameter, \n",
    "regardless of the order in which they are defined in the function's parameter list. Keyword arguments are particularly useful\n",
    "when you want to make function calls more explicit and self-documenting. To use keyword arguments, you provide the argument \n",
    "name followed by = and the value.\n",
    "\n",
    "Here's an example of how to use keyword arguments in Python function calls:"
   ]
  },
  {
   "cell_type": "code",
   "execution_count": 40,
   "id": "8eb132b9",
   "metadata": {},
   "outputs": [
    {
     "name": "stdout",
     "output_type": "stream",
     "text": [
      "Area 1: 15\n",
      "Area 2: 28\n"
     ]
    }
   ],
   "source": [
    "# Define a function that calculates the area of a rectangle\n",
    "def calculate_rectangle_area(length, width):\n",
    "    return length * width\n",
    "\n",
    "# Call the function using keyword arguments\n",
    "area1 = calculate_rectangle_area(length=5, width=3)\n",
    "area2 = calculate_rectangle_area(width=4, length=7)\n",
    "\n",
    "# Print the results\n",
    "print(\"Area 1:\", area1)\n",
    "print(\"Area 2:\", area2)\n"
   ]
  },
  {
   "cell_type": "markdown",
   "id": "9651055c",
   "metadata": {},
   "source": [
    "# 4. Create a Python function that accepts a variable number of arguments and calculates their sum.\n"
   ]
  },
  {
   "cell_type": "code",
   "execution_count": 41,
   "id": "caa2c4c8",
   "metadata": {},
   "outputs": [
    {
     "name": "stdout",
     "output_type": "stream",
     "text": [
      "Sum 1: 6\n",
      "Sum 2: 150\n"
     ]
    }
   ],
   "source": [
    "def calculate_sum(*args):\n",
    "    \"\"\"This function accepts a variable number of arguments and calculates their sum.\"\"\"\n",
    "    total = 0\n",
    "    for num in args:\n",
    "        total += num\n",
    "    return total\n",
    "\n",
    "# Call the function with different numbers of arguments\n",
    "result1 = calculate_sum(1, 2, 3)\n",
    "result2 = calculate_sum(10, 20, 30, 40, 50)\n",
    "\n",
    "# Print the results\n",
    "print(\"Sum 1:\", result1)\n",
    "print(\"Sum 2:\", result2)\n"
   ]
  },
  {
   "cell_type": "markdown",
   "id": "1a5b6e69",
   "metadata": {},
   "source": [
    "# 5. What is the purpose of the `*args` and `**kwargs` syntax in function parameter lists?\n"
   ]
  },
  {
   "cell_type": "markdown",
   "id": "1fc14845",
   "metadata": {},
   "source": [
    "The *args and **kwargs syntax in function parameter lists serve specific purposes and are commonly used in Python to work with \n",
    "variable numbers of arguments. They allow you to create more flexible and generic functions that can accept different numbers of arguments and keyword arguments.\n",
    "\n",
    "Here's the purpose of *args and **kwargs:\n",
    "\n",
    "*args (Arbitrary Positional Arguments):\n",
    "\n",
    "Purpose: *args allows a function to accept a variable number of positional arguments. It collects these arguments into a tuple,\n",
    "which can be iterated through within the function.\n",
    "Syntax: *args is used as a parameter in the function definition, often preceded by one or more regular parameters."
   ]
  },
  {
   "cell_type": "code",
   "execution_count": 42,
   "id": "f3dd2524",
   "metadata": {},
   "outputs": [],
   "source": [
    "#Example \n",
    "def calculate_sum(*args):\n",
    "    total = 0\n",
    "    for num in args:\n",
    "        total += num\n",
    "    return total\n"
   ]
  },
  {
   "cell_type": "markdown",
   "id": "17052c61",
   "metadata": {},
   "source": [
    "**kwargs (Arbitrary Keyword Arguments):\n",
    "\n",
    "Purpose: **kwargs allows a function to accept a variable number of keyword arguments. It collects these arguments into a\n",
    "dictionary, where the keys are the argument names and the values are the corresponding values passed in.\n",
    "Syntax: **kwargs is used as a parameter in the function definition, often preceded by one or more regular parameters."
   ]
  },
  {
   "cell_type": "code",
   "execution_count": 43,
   "id": "be4fde9e",
   "metadata": {},
   "outputs": [],
   "source": [
    "# Example \n",
    "def print_info(**kwargs):\n",
    "    for key, value in kwargs.items():\n",
    "        print(f\"{key}: {value}\")\n"
   ]
  },
  {
   "cell_type": "markdown",
   "id": "cbd4e08c",
   "metadata": {},
   "source": [
    "# Return Values and Scoping:\n"
   ]
  },
  {
   "cell_type": "markdown",
   "id": "bd773d7c",
   "metadata": {},
   "source": [
    "# 1. Describe the role of the `return` statement in Python functions and provide examples.\n"
   ]
  },
  {
   "cell_type": "markdown",
   "id": "6d29c1da",
   "metadata": {},
   "source": [
    "The return statement in Python functions serves the crucial role of specifying the value or values that a function should \n",
    "produce or \"return\" as its result when it is called. In essence, it allows a function to send a value back to the caller, and this value can be used in the caller's context or assigned to a variable for further processing.\n",
    "\n",
    "Here are the key points about the role of the return statement in Python functions:\n",
    "\n",
    "Returning Values: The return statement is used to specify what value or values the function should produce as its result. This \n",
    "value can be of any data type, including numbers, strings, lists, dictionaries, or custom objects.\n",
    "\n",
    "Function Termination: When a return statement is encountered in a function, it immediately exits the function's execution, and \n",
    "control is returned to the caller. Any code after the return statement within the function is not executed.\n",
    "\n",
    "Optional: The return statement is optional in Python functions. If a function does not include a return statement, it implicitly\n",
    "returns None, indicating that it does not produce any specific result.\n",
    "\n",
    "Here are examples of Python functions that use the return statement:"
   ]
  },
  {
   "cell_type": "code",
   "execution_count": 44,
   "id": "644d58ac",
   "metadata": {},
   "outputs": [
    {
     "name": "stdout",
     "output_type": "stream",
     "text": [
      "The sum is: 8\n"
     ]
    }
   ],
   "source": [
    "# Example \n",
    "def add(x, y):\n",
    "    \"\"\"This function returns the sum of two numbers.\"\"\"\n",
    "    result = x + y\n",
    "    return result\n",
    "\n",
    "# Call the function and store the result in a variable\n",
    "result = add(3, 5)\n",
    "print(\"The sum is:\", result)\n"
   ]
  },
  {
   "cell_type": "markdown",
   "id": "332218a0",
   "metadata": {},
   "source": [
    "# 2. Explain the concept of variable scope in Python, including local and global variables.\n"
   ]
  },
  {
   "cell_type": "markdown",
   "id": "a88c7c6f",
   "metadata": {},
   "source": [
    "Variable scope in Python refers to the rules and regions in which variables can be accessed and manipulated within a program. \n",
    "It determines the visibility and lifetime of a variable. Python has two main types of variable scope: local and global.\n",
    "\n",
    "Local Variables:\n",
    "\n",
    "Scope: Local variables are defined within a specific block of code, such as a function or a block inside a function \n",
    "(e.g., a loop or conditional statement).\n",
    "Visibility: Local variables are only accessible within the block in which they are defined. They are not visible to code outside\n",
    "that block.\n",
    "Lifetime: The lifetime of a local variable is limited to the duration of the block in which it is defined. Once the block exits,\n",
    "the local variable is destroyed."
   ]
  },
  {
   "cell_type": "code",
   "execution_count": 45,
   "id": "4e9bfe70",
   "metadata": {},
   "outputs": [
    {
     "name": "stdout",
     "output_type": "stream",
     "text": [
      "10\n"
     ]
    }
   ],
   "source": [
    "# Example \n",
    "def my_function():\n",
    "    x = 10  # 'x' is a local variable\n",
    "    print(x)  # Accessible only within 'my_function'\n",
    "\n",
    "my_function()\n",
    "# Attempting to access 'x' here would result in an error\n"
   ]
  },
  {
   "cell_type": "markdown",
   "id": "4400ceae",
   "metadata": {},
   "source": [
    "Global Variables:\n",
    "\n",
    "Scope: Global variables are defined at the top level of a script or module, outside of any functions or blocks. They are also \n",
    "accessible within functions.\n",
    "Visibility: Global variables are visible and can be accessed from anywhere in the code, including functions, as long as they are\n",
    "not shadowed by local variables with the same name.\n",
    "Lifetime: Global variables persist throughout the entire execution of the program and are not destroyed until the program \n",
    "terminates."
   ]
  },
  {
   "cell_type": "code",
   "execution_count": 46,
   "id": "25e662f8",
   "metadata": {},
   "outputs": [
    {
     "name": "stdout",
     "output_type": "stream",
     "text": [
      "20\n",
      "20\n"
     ]
    }
   ],
   "source": [
    "# Example \n",
    "global_variable = 20  # 'global_variable' is a global variable\n",
    "\n",
    "def my_function():\n",
    "    print(global_variable)  # Accessible within 'my_function'\n",
    "\n",
    "my_function()\n",
    "print(global_variable)  # Accessible outside 'my_function'\n"
   ]
  },
  {
   "cell_type": "markdown",
   "id": "f7907eb3",
   "metadata": {},
   "source": [
    "# 3. Write a Python program that demonstrates the use of global variables within functions.\n"
   ]
  },
  {
   "cell_type": "code",
   "execution_count": 47,
   "id": "0be66486",
   "metadata": {},
   "outputs": [
    {
     "name": "stdout",
     "output_type": "stream",
     "text": [
      "Inside the function - Global Variable: 10\n",
      "Inside the function - Modified Global Variable: 20\n",
      "Inside the function - Global Variable: 20\n",
      "Outside the functions - Global Variable: 20\n"
     ]
    }
   ],
   "source": [
    "# Define a global variable\n",
    "global_variable = 10\n",
    "\n",
    "# Define a function that accesses the global variable\n",
    "def read_global_variable():\n",
    "    print(\"Inside the function - Global Variable:\", global_variable)\n",
    "\n",
    "# Define a function that modifies the global variable\n",
    "def modify_global_variable():\n",
    "    global global_variable\n",
    "    global_variable = 20\n",
    "    print(\"Inside the function - Modified Global Variable:\", global_variable)\n",
    "\n",
    "# Call the functions\n",
    "read_global_variable()   # Access the global variable\n",
    "modify_global_variable() # Modify the global variable\n",
    "read_global_variable()   # Access the modified global variable\n",
    "\n",
    "# Access the global variable outside the functions\n",
    "print(\"Outside the functions - Global Variable:\", global_variable)\n"
   ]
  },
  {
   "cell_type": "markdown",
   "id": "6b5c8881",
   "metadata": {},
   "source": [
    "# 4. Create a Python function that calculates the factorial of a number and returns it.\n"
   ]
  },
  {
   "cell_type": "code",
   "execution_count": 48,
   "id": "aca8dff5",
   "metadata": {},
   "outputs": [
    {
     "name": "stdout",
     "output_type": "stream",
     "text": [
      "The factorial of 5 is 120\n"
     ]
    }
   ],
   "source": [
    "def factorial(n):\n",
    "    \"\"\"Calculate the factorial of a non-negative integer 'n'.\"\"\"\n",
    "    if n < 0:\n",
    "        raise ValueError(\"Factorial is not defined for negative numbers\")\n",
    "    if n == 0:\n",
    "        return 1\n",
    "    else:\n",
    "        result = 1\n",
    "        for i in range(1, n + 1):\n",
    "            result *= i\n",
    "        return result\n",
    "\n",
    "# Example usage:\n",
    "num = 5\n",
    "fact = factorial(num)\n",
    "print(f\"The factorial of {num} is {fact}\")\n"
   ]
  },
  {
   "cell_type": "markdown",
   "id": "05f7746e",
   "metadata": {},
   "source": [
    "# 5. How can you access variables defined outside a function from within the function?\n"
   ]
  },
  {
   "cell_type": "markdown",
   "id": "08fe178f",
   "metadata": {},
   "source": [
    "In Python, you can access variables defined outside a function from within the function by using those variables directly in the\n",
    "function's code. Variables defined in the global scope (outside all functions) are accessible to all functions defined in the \n",
    "same script or module. Here's how you can access global variables from within a function:"
   ]
  },
  {
   "cell_type": "code",
   "execution_count": 49,
   "id": "824a5c15",
   "metadata": {},
   "outputs": [
    {
     "name": "stdout",
     "output_type": "stream",
     "text": [
      "Inside the function - Global Variable: 42\n",
      "Outside the function - Global Variable: 42\n"
     ]
    }
   ],
   "source": [
    "# Define a global variable\n",
    "global_variable = 42\n",
    "\n",
    "# Define a function that accesses the global variable\n",
    "def access_global_variable():\n",
    "    print(\"Inside the function - Global Variable:\", global_variable)\n",
    "\n",
    "# Call the function\n",
    "access_global_variable()\n",
    "\n",
    "# Access the global variable outside the function\n",
    "print(\"Outside the function - Global Variable:\", global_variable)\n"
   ]
  },
  {
   "cell_type": "markdown",
   "id": "de9835a1",
   "metadata": {},
   "source": [
    "# Lambda Functions and Higher-Order Functions:\n"
   ]
  },
  {
   "cell_type": "markdown",
   "id": "6974ed05",
   "metadata": {},
   "source": [
    "# 1. What are lambda functions in Python, and when are they typically used?\n"
   ]
  },
  {
   "cell_type": "markdown",
   "id": "bafef1bc",
   "metadata": {},
   "source": [
    "Lambda functions, also known as anonymous functions or lambda expressions, are a feature in Python that allows you to create \n",
    "small, unnamed functions without the need for a full function definition. Lambda functions are typically used for simple \n",
    "operations and are often employed in situations where you need a short, throwaway function for a specific purpose.\n",
    "\n",
    "Key characteristics of lambda functions in Python:\n",
    "\n",
    "Anonymous: Lambda functions are anonymous because they don't have a name like regular functions defined with the def keyword.\n",
    "\n",
    "Single Expression: Lambda functions are limited to a single expression, and the result of that expression is implicitly \n",
    "returned. This restriction makes them suitable for concise and straightforward operations.\n",
    "\n",
    "Syntax: The syntax for defining a lambda function is lambda parameters: expression, where parameters are the input arguments, \n",
    "and expression is the operation performed on those arguments."
   ]
  },
  {
   "cell_type": "code",
   "execution_count": 50,
   "id": "d217ff9b",
   "metadata": {},
   "outputs": [
    {
     "name": "stdout",
     "output_type": "stream",
     "text": [
      "8\n"
     ]
    }
   ],
   "source": [
    "# Here's an example of a lambda function in Python:\n",
    "add = lambda x, y: x + y\n",
    "\n",
    "result = add(5, 3)\n",
    "print(result)  # Output: 8\n"
   ]
  },
  {
   "cell_type": "markdown",
   "id": "e0f1c7f2",
   "metadata": {},
   "source": [
    "# 2. Write a Python program that uses lambda functions to sort a list of tuples based on the second element.\n"
   ]
  },
  {
   "cell_type": "code",
   "execution_count": 51,
   "id": "27280718",
   "metadata": {},
   "outputs": [
    {
     "name": "stdout",
     "output_type": "stream",
     "text": [
      "('Bob', 20)\n",
      "('Eve', 22)\n",
      "('David', 24)\n",
      "('Alice', 25)\n"
     ]
    }
   ],
   "source": [
    "# List of tuples with (name, age)\n",
    "students = [(\"Alice\", 25), (\"Bob\", 20), (\"Eve\", 22), (\"David\", 24)]\n",
    "\n",
    "# Sort the list of tuples based on the second element (age)\n",
    "sorted_students = sorted(students, key=lambda x: x[1])\n",
    "\n",
    "# Display the sorted list\n",
    "for student in sorted_students:\n",
    "    print(student)\n"
   ]
  },
  {
   "cell_type": "markdown",
   "id": "eeab82ca",
   "metadata": {},
   "source": [
    "# 3. Explain the concept of higher-order functions in Python, and provide an example.\n"
   ]
  },
  {
   "cell_type": "markdown",
   "id": "5d807ca1",
   "metadata": {},
   "source": [
    "In Python, a higher-order function is a function that can take other functions as arguments or return them as results. This \n",
    "concept is rooted in functional programming and allows for more flexible and abstract code design. Higher-order functions \n",
    "enable you to treat functions as first-class citizens, similar to other data types like integers or strings.\n",
    "\n",
    "Here are the key points about higher-order functions:\n",
    "Functions as Arguments: Higher-order functions can accept one or more functions as arguments. These functions are often\n",
    "referred to as \"callback functions\" because they are called back by the higher-order function during its execution.\n",
    "\n",
    "Functions as Return Values: Higher-order functions can also generate and return new functions as their results. These returned \n",
    "functions can be used elsewhere in the code.\n",
    "\n",
    "Functional Composition: Higher-order functions can be used to compose complex operations by chaining or combining simpler \n",
    "functions.\n",
    "\n",
    "Examples: Common examples of higher-order functions in Python include map(), filter(), sorted(), and functions from the \n",
    "functools module like functools.partial.\n",
    "\n",
    "Here's an example of a higher-order function in Python:"
   ]
  },
  {
   "cell_type": "code",
   "execution_count": 52,
   "id": "eac43947",
   "metadata": {},
   "outputs": [
    {
     "name": "stdout",
     "output_type": "stream",
     "text": [
      "Result 1 (Addition): 8\n",
      "Result 2 (Subtraction): 6\n"
     ]
    }
   ],
   "source": [
    "# Define a higher-order function 'apply_operation' that takes a function 'operation' as an argument\n",
    "def apply_operation(operation, x, y):\n",
    "    result = operation(x, y)\n",
    "    return result\n",
    "\n",
    "# Define two simple functions that can be used as 'operation' arguments\n",
    "def add(x, y):\n",
    "    return x + y\n",
    "\n",
    "def subtract(x, y):\n",
    "    return x - y\n",
    "\n",
    "# Use 'apply_operation' to perform addition and subtraction\n",
    "result1 = apply_operation(add, 5, 3)\n",
    "result2 = apply_operation(subtract, 10, 4)\n",
    "\n",
    "print(\"Result 1 (Addition):\", result1)\n",
    "print(\"Result 2 (Subtraction):\", result2)\n"
   ]
  },
  {
   "cell_type": "markdown",
   "id": "923d936e",
   "metadata": {},
   "source": [
    "# 4. Create a Python function that takes a list of numbers and a function as arguments, applying the function to each element in the list."
   ]
  },
  {
   "cell_type": "code",
   "execution_count": 53,
   "id": "a01c737b",
   "metadata": {},
   "outputs": [
    {
     "name": "stdout",
     "output_type": "stream",
     "text": [
      "[1, 4, 9, 16, 25]\n"
     ]
    }
   ],
   "source": [
    "def apply_function_to_list(numbers, func):\n",
    "    \"\"\"\n",
    "    Apply a given function to each element in a list of numbers.\n",
    "    \n",
    "    Args:\n",
    "        numbers (list): List of numbers.\n",
    "        func (function): The function to apply to each element.\n",
    "    \n",
    "    Returns:\n",
    "        list: A new list containing the results of applying the function to each element.\n",
    "    \"\"\"\n",
    "    result = []\n",
    "    for num in numbers:\n",
    "        result.append(func(num))\n",
    "    return result\n",
    "\n",
    "# Define a sample function to square a number\n",
    "def square(x):\n",
    "    return x ** 2\n",
    "\n",
    "# List of numbers\n",
    "numbers = [1, 2, 3, 4, 5]\n",
    "\n",
    "# Apply the 'square' function to each element in the list\n",
    "squared_numbers = apply_function_to_list(numbers, square)\n",
    "\n",
    "# Print the result\n",
    "print(squared_numbers)\n"
   ]
  },
  {
   "cell_type": "markdown",
   "id": "3a617ddf",
   "metadata": {},
   "source": [
    "# Built-in Functions:\n"
   ]
  },
  {
   "cell_type": "markdown",
   "id": "cb94ee6d",
   "metadata": {},
   "source": [
    "# 1. Describe the role of built-in functions like `len()`, `max()`, and `min()` in Python.\n"
   ]
  },
  {
   "cell_type": "markdown",
   "id": "9a74d072",
   "metadata": {},
   "source": [
    "Built-in functions like len(), max(), and min() in Python are essential tools that provide convenient ways to perform common \n",
    "operations on data structures, such as lists, strings, and tuples. They serve the following roles:\n",
    "\n",
    "1 ) len(iterable) - Length Function:\n",
    "\n",
    "Role: The len() function is used to determine the number of elements in an iterable (e.g. a list, tuple, string, or dictionary).\n",
    "    \n",
    "Usage: len(iterable) returns an integer representing the length of the iterable."
   ]
  },
  {
   "cell_type": "code",
   "execution_count": 55,
   "id": "34653348",
   "metadata": {},
   "outputs": [
    {
     "name": "stdout",
     "output_type": "stream",
     "text": [
      "5\n"
     ]
    }
   ],
   "source": [
    "# Example \n",
    "my_list = [1, 2, 3, 4, 5]\n",
    "length = len(my_list)\n",
    "print(length)  # Output: 5\n"
   ]
  },
  {
   "cell_type": "markdown",
   "id": "1de48bfc",
   "metadata": {},
   "source": [
    "2 ) max(iterable) - Maximum Function:\n",
    "\n",
    "Role: The max() function is used to find the maximum (largest) element in an iterable.\n",
    "Usage: max(iterable) returns the maximum element from the iterable."
   ]
  },
  {
   "cell_type": "code",
   "execution_count": 56,
   "id": "2d83b8a5",
   "metadata": {},
   "outputs": [
    {
     "name": "stdout",
     "output_type": "stream",
     "text": [
      "30\n"
     ]
    }
   ],
   "source": [
    "# Example \n",
    "my_list = [10, 5, 20, 30, 15]\n",
    "maximum = max(my_list)\n",
    "print(maximum)  # Output: 30\n"
   ]
  },
  {
   "cell_type": "markdown",
   "id": "c601e1c3",
   "metadata": {},
   "source": [
    "3 ) min(iterable) - Minimum Function:\n",
    "\n",
    "Role: The min() function is used to find the minimum (smallest) element in an iterable.\n",
    "Usage: min(iterable) returns the minimum element from the iterable."
   ]
  },
  {
   "cell_type": "code",
   "execution_count": 57,
   "id": "8cbc76d7",
   "metadata": {},
   "outputs": [
    {
     "name": "stdout",
     "output_type": "stream",
     "text": [
      "5\n"
     ]
    }
   ],
   "source": [
    "my_list = [10, 5, 20, 30, 15]\n",
    "minimum = min(my_list)\n",
    "print(minimum)  # Output: 5\n"
   ]
  },
  {
   "cell_type": "markdown",
   "id": "7d5a4f3b",
   "metadata": {},
   "source": [
    "# 2. Write a Python program that uses the `map()` function to apply a function to each element of a list.\n"
   ]
  },
  {
   "cell_type": "code",
   "execution_count": 58,
   "id": "af614c88",
   "metadata": {},
   "outputs": [
    {
     "name": "stdout",
     "output_type": "stream",
     "text": [
      "Original Numbers: [1, 2, 3, 4, 5]\n",
      "Squared Numbers (Map Object): <map object at 0x000001C10368F460>\n",
      "Squared Numbers (List): [1, 4, 9, 16, 25]\n"
     ]
    }
   ],
   "source": [
    "# Define a function to square a number\n",
    "def square(x):\n",
    "    return x ** 2\n",
    "\n",
    "# List of numbers\n",
    "numbers = [1, 2, 3, 4, 5]\n",
    "\n",
    "# Use the 'map()' function to apply the 'square' function to each element in the list\n",
    "squared_numbers = map(square, numbers)\n",
    "\n",
    "# Convert the map object to a list (optional)\n",
    "squared_numbers_list = list(squared_numbers)\n",
    "\n",
    "# Print the results\n",
    "print(\"Original Numbers:\", numbers)\n",
    "print(\"Squared Numbers (Map Object):\", squared_numbers)\n",
    "print(\"Squared Numbers (List):\", squared_numbers_list)\n"
   ]
  },
  {
   "cell_type": "markdown",
   "id": "6f08dea9",
   "metadata": {},
   "source": [
    "# 3. How does the `filter()` function work in Python, and when would you use it?\n"
   ]
  },
  {
   "cell_type": "markdown",
   "id": "28971af3",
   "metadata": {},
   "source": [
    "The filter() function in Python is used to filter elements from an iterable (e.g., a list, tuple, or string) based on a \n",
    "specified condition or predicate function. It returns an iterable containing only those elements from the original iterable \n",
    "that satisfy the condition.\n",
    "\n",
    "Here's how the filter() function works:\n",
    "\n",
    "Syntax: The syntax of the filter() function is filter(function, iterable), where:\n",
    "\n",
    "function is the predicate function that defines the filtering condition.\n",
    "iterable is the iterable (e.g., list) from which elements are filtered.\n",
    "Operation: The filter() function applies the function to each element in the iterable. If the result of applying the function to\n",
    "an element is True, the element is included in the filtered output. If the result is False, the element is excluded.\n",
    "\n",
    "Result: The filter() function returns an iterator (usually a filter object). You can convert this iterator into other iterable\n",
    "types like lists, tuples, or sets using the list(), tuple(), or set() constructor if needed.\n",
    "\n",
    "Here's an example that demonstrates how to use the filter() function to filter even numbers from a list of integers:"
   ]
  },
  {
   "cell_type": "code",
   "execution_count": 59,
   "id": "0077488e",
   "metadata": {},
   "outputs": [
    {
     "name": "stdout",
     "output_type": "stream",
     "text": [
      "Original Numbers: [1, 2, 3, 4, 5, 6, 7, 8, 9, 10]\n",
      "Even Numbers: [2, 4, 6, 8, 10]\n"
     ]
    }
   ],
   "source": [
    "# Define a predicate function to check if a number is even\n",
    "def is_even(num):\n",
    "    return num % 2 == 0\n",
    "\n",
    "# List of numbers\n",
    "numbers = [1, 2, 3, 4, 5, 6, 7, 8, 9, 10]\n",
    "\n",
    "# Use the 'filter()' function to filter even numbers from the list\n",
    "even_numbers = filter(is_even, numbers)\n",
    "\n",
    "# Convert the filter object to a list\n",
    "even_numbers_list = list(even_numbers)\n",
    "\n",
    "# Print the filtered even numbers\n",
    "print(\"Original Numbers:\", numbers)\n",
    "print(\"Even Numbers:\", even_numbers_list)\n"
   ]
  },
  {
   "cell_type": "markdown",
   "id": "5e7295e6",
   "metadata": {},
   "source": [
    "# 4. Create a Python program that uses the `reduce()` function to find the product of all elements in a list."
   ]
  },
  {
   "cell_type": "code",
   "execution_count": 60,
   "id": "be84104d",
   "metadata": {},
   "outputs": [
    {
     "name": "stdout",
     "output_type": "stream",
     "text": [
      "Numbers: [1, 2, 3, 4, 5]\n",
      "Product of All Elements: 120\n"
     ]
    }
   ],
   "source": [
    "from functools import reduce\n",
    "\n",
    "# Define a function to calculate the product of two numbers\n",
    "def multiply(x, y):\n",
    "    return x * y\n",
    "\n",
    "# List of numbers\n",
    "numbers = [1, 2, 3, 4, 5]\n",
    "\n",
    "# Use the 'reduce()' function to find the product of all elements in the list\n",
    "product = reduce(multiply, numbers)\n",
    "\n",
    "# Print the result\n",
    "print(\"Numbers:\", numbers)\n",
    "print(\"Product of All Elements:\", product)\n"
   ]
  },
  {
   "cell_type": "markdown",
   "id": "37d1ae91",
   "metadata": {},
   "source": [
    "# Function Documentation and Best Practices:\n"
   ]
  },
  {
   "cell_type": "markdown",
   "id": "25cc6b8d",
   "metadata": {},
   "source": [
    "# 1. Explain the purpose of docstrings in Python functions and how to write them."
   ]
  },
  {
   "cell_type": "markdown",
   "id": "56d587b9",
   "metadata": {},
   "source": [
    "Docstrings in Python are used to provide documentation and information about functions, classes, methods, modules, or modules' \n",
    "attributes. They serve as a way to document your code, making it more understandable and accessible to other developers \n",
    "(including your future self). Here's the purpose of docstrings and how to write them:\n",
    "\n",
    "Purpose of Docstrings:\n",
    "\n",
    "Documentation: Docstrings provide a human-readable description of what a function or piece of code does. They explain its \n",
    "purpose, input parameters, return values, and any other relevant details.\n",
    "\n",
    "Accessibility: Docstrings can be accessed using the help() function or through documentation generation tools like Sphinx. This \n",
    "makes it easy for developers to get information about how to use a function or module.\n",
    "\n",
    "Clarity and Readability: Well-written docstrings improve code readability and maintainability. They serve as self-contained \n",
    "documentation, reducing the need for extensive inline comments.\n",
    "\n",
    "IDE Support: Many integrated development environments (IDEs) and code editors use docstrings to provide tooltips, \n",
    "auto-completion suggestions, and context-aware help.\n",
    "\n",
    "Writing Docstrings:\n",
    "\n",
    "In Python, docstrings are enclosed in triple quotes (either single or double) and are placed immediately after the function, \n",
    "class, or module definition line. There are conventions for writing docstrings, known as \"docstring conventions.\" The most \n",
    "common docstring style is the \"Google Style\" and \"PEP 257 Style,\" which provides guidelines for writing clear and informative \n",
    "docstrings.\n",
    "\n",
    "Here's an example of a function with a docstring:"
   ]
  },
  {
   "cell_type": "code",
   "execution_count": 62,
   "id": "5643aeda",
   "metadata": {},
   "outputs": [],
   "source": [
    "def calculate_square(x):\n",
    "    \"\"\"\n",
    "    Calculate the square of a number.\n",
    "    \n",
    "    Args:\n",
    "        x (int or float): The input number.\n",
    "        \n",
    "    Returns:\n",
    "        int or float: The square of the input number.\n",
    "    \"\"\"\n",
    "    return x ** 2\n"
   ]
  },
  {
   "cell_type": "markdown",
   "id": "937e4eef",
   "metadata": {},
   "source": [
    "# 2. Descibe some basic practice for naming function and variable in python , including naming convention and guidelines "
   ]
  },
  {
   "cell_type": "markdown",
   "id": "7cadaa7c",
   "metadata": {},
   "source": [
    "Naming functions and variables in Python follows specific naming conventions and guidelines to make your code readable and \n",
    "maintainable. Consistent and descriptive names enhance code comprehension and collaboration among developers. Here are some \n",
    "basic practices for naming functions and variables in Python:\n",
    "\n",
    "Function Naming:\n",
    "Use Descriptive Names: Choose function names that describe what the function does. A well-chosen name should make it clear what \n",
    "the function's purpose is.\n",
    "\n",
    "\n",
    "# Good: calculate_area\n",
    "# Bad: calc\n",
    "\n",
    "Use Lowercase Letters: Function names should be in lowercase, with words separated by underscores (snake_case).\n",
    "\n",
    "# Good: calculate_area\n",
    "# Bad: CalculateArea\n",
    "\n",
    "\n",
    "Be Concise: While being descriptive, strive for brevity. Avoid overly long function names, but don't sacrifice clarity.\n",
    "# Good: get_user_data\n",
    "# Acceptable: retrieve_user_information_from_database\n",
    "\n",
    "\n",
    "Use Verbs: Function names should typically start with a verb that indicates the action performed.\n",
    "# Good: calculate_area\n",
    "# Bad: area\n",
    "\n",
    "Avoid Using Built-in Names: Do not use names that are reserved keywords or built-in functions in Python (e.g., print, list, str).\n",
    "\n",
    "Variable Naming:\n",
    "Use Descriptive Names: Like functions, choose variable names that convey the meaning or purpose of the variable.\n",
    "\n",
    "# Good: user_age\n",
    "# Bad: u\n",
    "\n",
    "Use Lowercase Letters: Variable names should also be in lowercase, with words separated by underscores (snake_case).\n",
    "# Good: user_age\n",
    "# Bad: UserAge\n",
    "\n",
    "\n",
    "Avoid Single-Character Names: Use meaningful names even for short-lived variables. Exceptions include loop counters (i, j, k) and common mathematical symbols (x, y, z).\n",
    "\n",
    "\n",
    "# Good: total_sum\n",
    "# Bad: t\n",
    "\n",
    "\n",
    "Be Specific: Make variable names as specific as possible to avoid ambiguity.\n",
    "\n",
    "# Good: student_name\n",
    "# Acceptable: name\n",
    "\n",
    "\n",
    "Use Constants: Constants should be named in uppercase with underscores (SNAKE_CASE).\n",
    "# Good: PI_VALUE\n",
    "# Bad: piValue\n",
    "\n",
    "Avoid Using L and O: To prevent confusion with 1 (one) and 0 (zero), avoid using l (lowercase L) and O (uppercase O) as \n",
    "single-character variable names.\n",
    "\n",
    "Naming Conventions:\n",
    "Follow PEP 8: Python's official style guide, PEP 8, provides comprehensive naming conventions. Adhering to PEP 8 helps maintain\n",
    "consistency across Python projects.\n",
    "\n",
    "Module Names: Module names should be short and lowercase. Avoid special characters and spaces in module names. If a module name \n",
    "consists of multiple words, use underscores (e.g., my_module.py).\n",
    "\n",
    "Class Names: Class names should follow the CapWords convention (CamelCase), where each word starts with a capital letter \n",
    "(e.g., MyClass).\n",
    "\n",
    "Private Names: For variables or functions intended to be private (not part of the public interface), prefix them with an\n",
    "underscore (e.g., _private_variable).\n",
    "\n",
    "Dunder (Double Underscore) Names: Names with double underscores at the beginning and end (e.g., __init__) are reserved for \n",
    "special methods and attributes in Python.\n",
    "\n",
    "Acronyms and Initialisms: For acronyms and initialisms, use all uppercase letters if the acronym is two characters, and use \n",
    "mixed case (CapWords) if it is longer.\n",
    "\n",
    "# Good: URL, HTTPRequest\n",
    "# Bad: url, httprequest"
   ]
  }
 ],
 "metadata": {
  "kernelspec": {
   "display_name": "Python 3 (ipykernel)",
   "language": "python",
   "name": "python3"
  },
  "language_info": {
   "codemirror_mode": {
    "name": "ipython",
    "version": 3
   },
   "file_extension": ".py",
   "mimetype": "text/x-python",
   "name": "python",
   "nbconvert_exporter": "python",
   "pygments_lexer": "ipython3",
   "version": "3.11.1"
  }
 },
 "nbformat": 4,
 "nbformat_minor": 5
}
